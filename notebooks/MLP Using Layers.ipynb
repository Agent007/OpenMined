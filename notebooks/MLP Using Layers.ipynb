{
 "cells": [
  {
   "cell_type": "code",
   "execution_count": 1,
   "metadata": {
    "collapsed": true
   },
   "outputs": [],
   "source": [
    "import syft\n",
    "import syft.nn as nn\n",
    "from syft.controller import tensors, models\n",
    "import imp\n",
    "imp.reload(syft.controller)\n",
    "imp.reload(syft.nn)\n",
    "imp.reload(syft)\n",
    "\n",
    "import numpy as np\n",
    "from syft import FloatTensor"
   ]
  },
  {
   "cell_type": "code",
   "execution_count": 2,
   "metadata": {},
   "outputs": [],
   "source": [
    "model = nn.Sequential([\n",
    "    nn.Linear(3,4),\n",
    "    nn.Sigmoid(),\n",
    "    nn.Linear(4,1),\n",
    "    nn.Sigmoid()\n",
    "])\n",
    "\n",
    "input = FloatTensor([[0,0,1],[0,1.0,1],[1,0,1],[1,1,1]], autograd=True)\n",
    "target = FloatTensor([[0],[0],[1],[1]], autograd=True)\n",
    "\n",
    "grad = FloatTensor([[1],[1],[1],[1]], autograd=False)"
   ]
  },
  {
   "cell_type": "code",
   "execution_count": 3,
   "metadata": {
    "collapsed": true
   },
   "outputs": [],
   "source": [
    "criterion = nn.MSELoss()"
   ]
  },
  {
   "cell_type": "code",
   "execution_count": 4,
   "metadata": {},
   "outputs": [
    {
     "name": "stdout",
     "output_type": "stream",
     "text": [
      "1.14032191\n",
      "0.96678362\n",
      "0.909566\n",
      "0.8878118\n",
      "0.8671224\n",
      "0.8436169\n",
      "0.8168926\n",
      "0.7868477\n",
      "0.7535048\n",
      "0.7170329\n",
      "0.6777682\n",
      "0.636223\n",
      "0.5930714\n",
      "0.5491105\n",
      "0.5051982\n",
      "0.46218145\n",
      "0.42082233\n",
      "0.38174144\n",
      "0.34538378\n",
      "0.31201302\n",
      "0.28172644\n",
      "0.25448492\n",
      "0.23014937\n",
      "0.20851552\n",
      "0.18934419\n",
      "0.17238392\n",
      "0.15738729\n",
      "0.14412095\n",
      "0.13237108\n",
      "0.12194606\n",
      "0.11267622\n",
      "0.10441321\n",
      "0.09702791\n",
      "0.09040874\n",
      "0.08445921\n",
      "0.07909627\n",
      "0.07424823\n",
      "0.06985341\n",
      "0.06585845\n",
      "0.06221726\n",
      "0.05888989\n",
      "0.055841671\n",
      "0.053042372\n",
      "0.050465773\n",
      "0.048088733\n",
      "0.045891138\n",
      "0.043855254\n",
      "0.041965362\n",
      "0.040207717\n",
      "0.038570046\n",
      "0.037041489\n",
      "0.035612385\n",
      "0.034274101\n",
      "0.03301893\n",
      "0.031839948\n",
      "0.030730955\n",
      "0.029686352\n",
      "0.028701113\n",
      "0.027770673\n",
      "0.026890923\n",
      "0.026058127\n",
      "0.02526885\n",
      "0.024520033\n",
      "0.023808849\n",
      "0.023132717\n",
      "0.022489275\n",
      "0.021876375\n",
      "0.021292021\n",
      "0.020734399\n",
      "0.020201832\n",
      "0.019692764\n",
      "0.019205791\n",
      "0.018739576\n",
      "0.018292913\n",
      "0.017864659\n",
      "0.017453768\n",
      "0.017059286\n",
      "0.016680278\n",
      "0.016315925\n",
      "0.015965448\n",
      "0.015628094\n",
      "0.015303188\n",
      "0.014990105\n",
      "0.014688224\n",
      "0.014397003\n",
      "0.014115919\n",
      "0.013844481\n",
      "0.013582215\n",
      "0.01332871\n",
      "0.013083539\n",
      "0.012846331\n",
      "0.012616724\n",
      "0.012394358\n",
      "0.012178942\n",
      "0.011970153\n",
      "0.011767714\n",
      "0.011571357\n",
      "0.011380814\n",
      "0.01119585\n",
      "0.011016247\n"
     ]
    }
   ],
   "source": [
    "for i in range(100):\n",
    "    \n",
    "    loss = criterion(model(input),target)\n",
    "    \n",
    "    loss.backward(grad)    \n",
    "\n",
    "    # note: zeroing out gradients has to happen by hand\n",
    "    for p in model.parameters():\n",
    "        p -= p.grad()\n",
    " \n",
    "    print(loss.to_numpy().sum())"
   ]
  },
  {
   "cell_type": "code",
   "execution_count": null,
   "metadata": {
    "collapsed": true
   },
   "outputs": [],
   "source": []
  }
 ],
 "metadata": {
  "kernelspec": {
   "display_name": "Python 3",
   "language": "python",
   "name": "python3"
  },
  "language_info": {
   "codemirror_mode": {
    "name": "ipython",
    "version": 3
   },
   "file_extension": ".py",
   "mimetype": "text/x-python",
   "name": "python",
   "nbconvert_exporter": "python",
   "pygments_lexer": "ipython3",
   "version": "3.6.1"
  }
 },
 "nbformat": 4,
 "nbformat_minor": 2
}
