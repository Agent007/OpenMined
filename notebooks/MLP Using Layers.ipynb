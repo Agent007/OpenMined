{
 "cells": [
  {
   "cell_type": "code",
   "execution_count": 1,
   "metadata": {},
   "outputs": [],
   "source": [
    "import syft\n",
    "import syft.nn as nn\n",
    "from syft.controller import tensors, models\n",
    "import imp\n",
    "imp.reload(syft.controller)\n",
    "imp.reload(syft.nn)\n",
    "imp.reload(syft)\n",
    "\n",
    "import numpy as np\n",
    "from syft import FloatTensor"
   ]
  },
  {
   "cell_type": "code",
   "execution_count": 2,
   "metadata": {},
   "outputs": [],
   "source": [
    "model = nn.Sequential([\n",
    "    nn.Linear(3,4),\n",
    "    nn.Sigmoid(),\n",
    "    nn.Linear(4,1),\n",
    "    nn.Sigmoid()\n",
    "])\n",
    "\n",
    "input = FloatTensor([[0,0,1],[0,1.0,1],[1,0,1],[1,1,1]], autograd=True)\n",
    "target = FloatTensor([[0],[0],[1],[1]], autograd=True)"
   ]
  },
  {
   "cell_type": "code",
   "execution_count": 4,
   "metadata": {},
   "outputs": [
    {
     "name": "stdout",
     "output_type": "stream",
     "text": [
      "0.95510231\n",
      "0.6469793\n",
      "0.57578107\n",
      "0.514641616\n",
      "0.258731767\n",
      "0.065326065\n",
      "0.0142374359\n",
      "0.0078246909\n",
      "0.00780790822\n",
      "0.007490249357\n",
      "0.00574991921322\n",
      "0.00343099888985\n",
      "0.00168407259618\n",
      "0.000736835633572\n",
      "0.000306048213019\n",
      "0.000125409938699\n",
      "5.17510796247e-05\n",
      "2.17180199703e-05\n",
      "9.30465118739e-06\n",
      "4.07226069085e-06\n",
      "1.81925324062e-06\n",
      "8.28290320447e-07\n",
      "3.83671200409e-07\n",
      "1.80558427898e-07\n",
      "8.62083219744e-08\n",
      "4.17242542109e-08\n",
      "2.04636335527e-08\n",
      "1.015892e-08\n",
      "5.098869e-09\n",
      "2.597123e-09\n",
      "1.335e-09\n",
      "6.972165e-10\n",
      "3.683596e-10\n",
      "1.978719e-10\n",
      "1.07562e-10\n",
      "5.912071e-11\n",
      "3.342748e-11\n",
      "1.893241e-11\n",
      "1.074696e-11\n",
      "6.266987e-12\n",
      "3.868905e-12\n",
      "10 loops, best of 3: 182 ms per loop\n"
     ]
    }
   ],
   "source": [
    "%%timeit\n",
    "\n",
    "pred = model(input)\n",
    "\n",
    "loss = (pred - target) ** 2 # Mean Squared Error Loss\n",
    "\n",
    "loss.backward()\n",
    "\n",
    "for p in model.parameters():\n",
    "    p -= p.grad()\n",
    "\n",
    "print(loss.to_numpy().sum())"
   ]
  },
  {
   "cell_type": "code",
   "execution_count": null,
   "metadata": {
    "collapsed": true
   },
   "outputs": [],
   "source": []
  }
 ],
 "metadata": {
  "kernelspec": {
   "display_name": "Python 3",
   "language": "python",
   "name": "python3"
  },
  "language_info": {
   "codemirror_mode": {
    "name": "ipython",
    "version": 3
   },
   "file_extension": ".py",
   "mimetype": "text/x-python",
   "name": "python",
   "nbconvert_exporter": "python",
   "pygments_lexer": "ipython3",
   "version": "3.6.1"
  }
 },
 "nbformat": 4,
 "nbformat_minor": 2
}
