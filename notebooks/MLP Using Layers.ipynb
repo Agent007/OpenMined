{
 "cells": [
  {
   "cell_type": "code",
   "execution_count": 1,
   "metadata": {
    "collapsed": true
   },
   "outputs": [],
   "source": [
    "import syft\n",
    "import syft.nn as nn\n",
    "from syft.controller import tensors, models\n",
    "import imp\n",
    "imp.reload(syft.controller)\n",
    "imp.reload(syft.nn)\n",
    "imp.reload(syft)\n",
    "\n",
    "import numpy as np\n",
    "from syft import FloatTensor"
   ]
  },
  {
   "cell_type": "code",
   "execution_count": 2,
   "metadata": {
    "collapsed": true
   },
   "outputs": [],
   "source": [
    "input = FloatTensor([[0,0,1],[0,1.0,1],[1,0,1],[1,1,1]], autograd=True)\n",
    "target = FloatTensor([[0],[0],[1],[1]], autograd=True)\n",
    "\n",
    "model = nn.Sequential([\n",
    "    nn.Linear(3,4),\n",
    "    nn.Sigmoid(),\n",
    "    nn.Linear(4,1),\n",
    "    nn.Sigmoid()\n",
    "])\n",
    "\n",
    "grad = FloatTensor([[1],[1],[1],[1]], autograd=False)"
   ]
  },
  {
   "cell_type": "code",
   "execution_count": 3,
   "metadata": {},
   "outputs": [
    {
     "name": "stdout",
     "output_type": "stream",
     "text": [
      "1.14032191\n",
      "1.14032191\n",
      "1.14032191\n",
      "1.14032191\n",
      "1.14032191\n",
      "1.14032191\n",
      "1.14032191\n",
      "1.14032191\n",
      "1.14032191\n",
      "1.14032191\n"
     ]
    }
   ],
   "source": [
    "# # %%timeit\n",
    "\n",
    "# pred = model(input)\n",
    "\n",
    "# loss = (pred - target) ** 2 # Mean Squared Error Loss\n",
    "\n",
    "# %%timeit\n",
    "for i in range(10):\n",
    "    pred = model(input)\n",
    "\n",
    "    loss = (pred - target) ** 2 # Mean Squared Error Loss\n",
    "\n",
    "    loss.backward(grad)\n",
    "\n",
    "#     for p in model.parameters():\n",
    "#         p -= p.grad()\n",
    "\n",
    "    print(loss.to_numpy().sum())"
   ]
  },
  {
   "cell_type": "code",
   "execution_count": 4,
   "metadata": {},
   "outputs": [
    {
     "data": {
      "text/plain": [
       "<syft.nn.linear at 1>\n",
       "\t W:[syft.FloatTensor:3 grad:34 size:3x4 c:[8] p:[] init:]\n",
       "\t A:[syft.FloatTensor:8 grad:30 size:4x4 c:[9] p:[1, 3] init:mm]\n",
       "\n",
       "<syft.nn.sigmoid at 2>\n",
       "\t A:[syft.FloatTensor:9 grad:25 size:4x4 c:[10, 29] p:[8] init:sigmoid]\n",
       "\n",
       "<syft.nn.linear at 3>\n",
       "\t W:[syft.FloatTensor:5 grad:36 size:4x1 c:[10] p:[] init:]\n",
       "\t A:[syft.FloatTensor:10 grad:23 size:4x1 c:[11] p:[9, 5] init:mm]\n",
       "\n",
       "<syft.nn.sigmoid at 4>\n",
       "\t A:[syft.FloatTensor:11 grad:17 size:4x1 c:[12, 22] p:[10] init:sigmoid]\n"
      ]
     },
     "execution_count": 4,
     "metadata": {},
     "output_type": "execute_result"
    }
   ],
   "source": [
    "model"
   ]
  },
  {
   "cell_type": "code",
   "execution_count": 5,
   "metadata": {},
   "outputs": [
    {
     "data": {
      "text/plain": [
       "[[ 0.4961088 ]\n",
       " [ 0.5515832 ]\n",
       " [ 0.05237074]\n",
       " [ 0.04025917]]\n",
       "[syft.FloatTensor:13 grad:7 size:4x1 c:[] p:[12, 14] init:pow_scalar]\n",
       "\n",
       "\t-----------creators-----------\n",
       "\t[syft.FloatTensor:12 grad:17 size:4x1 c:[13] p:[11, 2] init:sub_elem]\n",
       "\t[syft.FloatTensor:14 grad:None size:1 c:[] p:[] init:]\n",
       "\t------------------------------\n",
       "\n"
      ]
     },
     "execution_count": 5,
     "metadata": {},
     "output_type": "execute_result"
    }
   ],
   "source": [
    "loss"
   ]
  },
  {
   "cell_type": "code",
   "execution_count": 6,
   "metadata": {},
   "outputs": [
    {
     "data": {
      "text/plain": [
       "[[ 0.]\n",
       " [ 0.]\n",
       " [ 0.]\n",
       " [ 0.]]\n",
       "[syft.FloatTensor:7 grad:None size:4x1 c:[7, 7, 39, 44, 49, 54, 59, 64, 69, 74, 79] p:[7, 7] init:add_elem]\n",
       "\n",
       "\t-----------children-----------\n",
       "\t[syft.FloatTensor:7 grad:None size:4x1 c:[7, 7, 39, 44, 49, 54, 59, 64, 69, 74, 79] p:[7, 7] init:add_elem]\n",
       "\t[syft.FloatTensor:7 grad:None size:4x1 c:[7, 7, 39, 44, 49, 54, 59, 64, 69, 74, 79] p:[7, 7] init:add_elem]\n",
       "\t[syft.FloatTensor:39 grad:None size:4x1 c:[40] p:[38, 7] init:mul_elem]\n",
       "\t[syft.FloatTensor:44 grad:None size:4x1 c:[45] p:[43, 7] init:mul_elem]\n",
       "\t[syft.FloatTensor:49 grad:None size:4x1 c:[50] p:[48, 7] init:mul_elem]\n",
       "\t[syft.FloatTensor:54 grad:None size:4x1 c:[55] p:[53, 7] init:mul_elem]\n",
       "\t[syft.FloatTensor:59 grad:None size:4x1 c:[60] p:[58, 7] init:mul_elem]\n",
       "\t[syft.FloatTensor:64 grad:None size:4x1 c:[65] p:[63, 7] init:mul_elem]\n",
       "\t[syft.FloatTensor:69 grad:None size:4x1 c:[70] p:[68, 7] init:mul_elem]\n",
       "\t[syft.FloatTensor:74 grad:None size:4x1 c:[75] p:[73, 7] init:mul_elem]\n",
       "\t[syft.FloatTensor:79 grad:None size:4x1 c:[80] p:[78, 7] init:mul_elem]\n",
       "\t------------------------------\n",
       "\n",
       "\t-----------creators-----------\n",
       "\t[syft.FloatTensor:7 grad:None size:4x1 c:[7, 7, 39, 44, 49, 54, 59, 64, 69, 74, 79] p:[7, 7] init:add_elem]\n",
       "\t[syft.FloatTensor:7 grad:None size:4x1 c:[7, 7, 39, 44, 49, 54, 59, 64, 69, 74, 79] p:[7, 7] init:add_elem]\n",
       "\t------------------------------\n",
       "\n"
      ]
     },
     "execution_count": 6,
     "metadata": {},
     "output_type": "execute_result"
    }
   ],
   "source": [
    "grad"
   ]
  },
  {
   "cell_type": "code",
   "execution_count": 9,
   "metadata": {},
   "outputs": [
    {
     "data": {
      "text/plain": [
       "[[ 0.7043499]\n",
       " [ 0.7426865]\n",
       " [-0.2288465]\n",
       " [-0.2006469]]\n",
       "[syft.FloatTensor:16 grad:None size:4x1 c:[17] p:[15, 7] init:mul_elem]\n",
       "\n",
       "\t-----------children-----------\n",
       "\t[syft.FloatTensor:17 grad:None size:4x1 c:[23] p:[16, 18] init:mul_scalar]\n",
       "\t------------------------------\n",
       "\n",
       "\t-----------creators-----------\n",
       "\t[syft.FloatTensor:15 grad:None size:4x1 c:[16] p:[] init:sub_elem]\n",
       "\t[syft.FloatTensor:7 grad:None size:4x1 c:[16] p:[] init:]\n",
       "\t------------------------------\n",
       "\n"
      ]
     },
     "execution_count": 9,
     "metadata": {},
     "output_type": "execute_result"
    }
   ],
   "source": [
    "tensors[16]"
   ]
  },
  {
   "cell_type": "code",
   "execution_count": 10,
   "metadata": {},
   "outputs": [
    {
     "data": {
      "text/plain": [
       "[[ 1.4087   ]\n",
       " [ 1.485373 ]\n",
       " [-0.4576931]\n",
       " [-0.4012938]]\n",
       "[syft.FloatTensor:17 grad:None size:4x1 c:[23] p:[16, 18] init:mul_scalar]\n",
       "\n",
       "\t-----------children-----------\n",
       "\t[syft.FloatTensor:23 grad:None size:4x1 c:[25, 36] p:[22, 17] init:mul_elem]\n",
       "\t------------------------------\n",
       "\n",
       "\t-----------creators-----------\n",
       "\t[syft.FloatTensor:16 grad:None size:4x1 c:[17] p:[15, 7] init:mul_elem]\n",
       "\t[syft.FloatTensor:18 grad:None size:1 c:[] p:[] init:]\n",
       "\t------------------------------\n",
       "\n"
      ]
     },
     "execution_count": 10,
     "metadata": {},
     "output_type": "execute_result"
    }
   ],
   "source": [
    "tensors[17]"
   ]
  },
  {
   "cell_type": "code",
   "execution_count": 11,
   "metadata": {},
   "outputs": [
    {
     "data": {
      "text/plain": [
       "[[ 0.2933492 ]\n",
       " [ 0.2838596 ]\n",
       " [-0.08077176]\n",
       " [-0.06436259]]\n",
       "[syft.FloatTensor:23 grad:None size:4x1 c:[25, 36] p:[22, 17] init:mul_elem]\n",
       "\n",
       "\t-----------children-----------\n",
       "\t[syft.FloatTensor:25 grad:None size:4x4 c:[30] p:[23, 24] init:mm]\n",
       "\t[syft.FloatTensor:36 grad:None size:4x1 c:[] p:[35, 23] init:mm]\n",
       "\t------------------------------\n",
       "\n",
       "\t-----------creators-----------\n",
       "\t[syft.FloatTensor:22 grad:None size:4x1 c:[23] p:[21, 11] init:mul_elem]\n",
       "\t[syft.FloatTensor:17 grad:None size:4x1 c:[23] p:[16, 18] init:mul_scalar]\n",
       "\t------------------------------\n",
       "\n"
      ]
     },
     "execution_count": 11,
     "metadata": {},
     "output_type": "execute_result"
    }
   ],
   "source": [
    "tensors[23]"
   ]
  },
  {
   "cell_type": "code",
   "execution_count": 3,
   "metadata": {},
   "outputs": [
    {
     "name": "stdout",
     "output_type": "stream",
     "text": [
      "1.14032191\n",
      "1.14032191\n",
      "1.14032191\n",
      "1.14032191\n",
      "1.14032191\n",
      "1.14032191\n",
      "1.14032191\n",
      "1.14032191\n",
      "1.14032191\n",
      "1.14032191\n"
     ]
    }
   ],
   "source": []
  },
  {
   "cell_type": "code",
   "execution_count": null,
   "metadata": {
    "collapsed": true
   },
   "outputs": [],
   "source": []
  }
 ],
 "metadata": {
  "kernelspec": {
   "display_name": "Python 3",
   "language": "python",
   "name": "python3"
  },
  "language_info": {
   "codemirror_mode": {
    "name": "ipython",
    "version": 3
   },
   "file_extension": ".py",
   "mimetype": "text/x-python",
   "name": "python",
   "nbconvert_exporter": "python",
   "pygments_lexer": "ipython3",
   "version": "3.6.1"
  }
 },
 "nbformat": 4,
 "nbformat_minor": 2
}
