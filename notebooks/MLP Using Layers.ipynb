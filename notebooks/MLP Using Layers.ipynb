{
 "cells": [
  {
   "cell_type": "code",
   "execution_count": 1,
   "metadata": {},
   "outputs": [],
   "source": [
    "import syft\n",
    "import syft.nn as nn\n",
    "import imp\n",
    "imp.reload(syft)\n",
    "imp.reload(syft.nn)\n",
    "\n",
    "import numpy as np\n",
    "from syft import FloatTensor"
   ]
  },
  {
   "cell_type": "code",
   "execution_count": 2,
   "metadata": {
    "collapsed": true
   },
   "outputs": [],
   "source": [
    "\n",
    "lin = nn.Linear(3,4)\n",
    "model = nn.Sequential([\n",
    "    lin,\n",
    "    nn.Tanh(),\n",
    "    nn.Linear(4,1),\n",
    "    nn.Sigmoid()\n",
    "])\n",
    "\n",
    "input = FloatTensor([[0,0,1],[0,1.0,1],[1,0,1],[1,1,1]], autograd=True)\n",
    "target = FloatTensor([[0],[0],[1],[1]], autograd=True)\n",
    "grad = FloatTensor([[1],[1],[1],[1]], autograd=False)"
   ]
  },
  {
   "cell_type": "code",
   "execution_count": 5,
   "metadata": {},
   "outputs": [
    {
     "data": {
      "text/plain": [
       "False"
      ]
     },
     "execution_count": 5,
     "metadata": {},
     "output_type": "execute_result"
    }
   ],
   "source": [
    "syft.controller.new_tensors_allowed(False)"
   ]
  },
  {
   "cell_type": "code",
   "execution_count": 6,
   "metadata": {},
   "outputs": [
    {
     "name": "stdout",
     "output_type": "stream",
     "text": [
      "0.018103384\n",
      "0.016658314\n",
      "0.015413504\n",
      "0.014331122\n",
      "0.013382147\n",
      "0.012543966\n",
      "0.011798727\n",
      "0.011132185\n",
      "0.0105328\n",
      "0.009991153\n",
      "0.009499485\n",
      "0.009051358\n",
      "0.008641357\n",
      "0.008264945\n",
      "0.007918243\n"
     ]
    }
   ],
   "source": [
    "for i in range(15):\n",
    "    \n",
    "    pred = model(input)\n",
    "    \n",
    "    loss = (pred - target) ** 2\n",
    "    \n",
    "    loss.backward(grad)\n",
    "    \n",
    "    # note: zeroing out gradients has to happen by hand\n",
    "    for p in model.parameters():\n",
    "        p -= p.grad()\n",
    "        \n",
    "    print(loss.to_numpy().sum())"
   ]
  },
  {
   "cell_type": "code",
   "execution_count": null,
   "metadata": {
    "collapsed": true
   },
   "outputs": [],
   "source": []
  }
 ],
 "metadata": {
  "kernelspec": {
   "display_name": "Python 3",
   "language": "python",
   "name": "python3"
  },
  "language_info": {
   "codemirror_mode": {
    "name": "ipython",
    "version": 3
   },
   "file_extension": ".py",
   "mimetype": "text/x-python",
   "name": "python",
   "nbconvert_exporter": "python",
   "pygments_lexer": "ipython3",
   "version": "3.6.1"
  }
 },
 "nbformat": 4,
 "nbformat_minor": 2
}
