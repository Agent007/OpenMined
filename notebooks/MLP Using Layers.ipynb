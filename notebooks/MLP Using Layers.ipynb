{
 "cells": [
  {
   "cell_type": "code",
   "execution_count": 11,
   "metadata": {
    "collapsed": true
   },
   "outputs": [],
   "source": [
    "import syft\n",
    "import syft.nn as nn\n",
    "from syft.controller import tensors, models\n",
    "import imp\n",
    "imp.reload(syft.controller)\n",
    "imp.reload(syft.nn)\n",
    "imp.reload(syft)\n",
    "\n",
    "import numpy as np\n",
    "from syft import FloatTensor"
   ]
  },
  {
   "cell_type": "code",
   "execution_count": 12,
   "metadata": {},
   "outputs": [],
   "source": [
    "model = nn.Sequential([\n",
    "    nn.Linear(3,4),\n",
    "    nn.Sigmoid(),\n",
    "    nn.Linear(4,1),\n",
    "    nn.Sigmoid()\n",
    "])\n",
    "\n",
    "input = FloatTensor([[0,0,1],[0,1.0,1],[1,0,1],[1,1,1]], autograd=True)\n",
    "target = FloatTensor([[0],[0],[1],[1]], autograd=True)\n",
    "\n",
    "grad = FloatTensor([[1],[1],[1],[1]], autograd=False)"
   ]
  },
  {
   "cell_type": "code",
   "execution_count": 13,
   "metadata": {},
   "outputs": [],
   "source": [
    "criterion = nn.MSELoss()"
   ]
  },
  {
   "cell_type": "code",
   "execution_count": 14,
   "metadata": {},
   "outputs": [
    {
     "name": "stdout",
     "output_type": "stream",
     "text": [
      "1.14032191\n",
      "0.96678362\n",
      "1.0012866\n",
      "0.97397595\n",
      "0.61600727\n",
      "0.56464059\n",
      "0.19671995\n",
      "0.030563372\n",
      "0.0163707639\n",
      "0.009198030763\n",
      "0.0026669911068\n",
      "0.000521584579738\n",
      "8.86816330885e-05\n",
      "1.48156704619e-05\n",
      "2.55284785491e-06\n"
     ]
    }
   ],
   "source": [
    "\n",
    "for i in range(15):\n",
    "    pred = model(input)\n",
    "\n",
    "    loss = criterion(pred,target)\n",
    "\n",
    "    loss.backward(grad)\n",
    "\n",
    "    for p in model.parameters():\n",
    "        p -= p.grad()\n",
    "\n",
    "    grad /= grad\n",
    "\n",
    "    print(loss.to_numpy().sum())"
   ]
  },
  {
   "cell_type": "code",
   "execution_count": 6,
   "metadata": {},
   "outputs": [
    {
     "data": {
      "text/plain": [
       "<syft.nn.linear at 1>\n",
       "\t W:[syft.FloatTensor:1 grad:33 size:3x4 c:[7] p:[] init:]\n",
       "\t A:[syft.FloatTensor:7 grad:29 size:4x4 c:[8] p:[5, 1] init:mm]\n",
       "\n",
       "<syft.nn.sigmoid at 2>\n",
       "\t A:[syft.FloatTensor:8 grad:24 size:4x4 c:[9] p:[7] init:sigmoid]\n",
       "\n",
       "<syft.nn.linear at 3>\n",
       "\t W:[syft.FloatTensor:3 grad:35 size:4x1 c:[9] p:[] init:]\n",
       "\t A:[syft.FloatTensor:9 grad:22 size:4x1 c:[10] p:[8, 3] init:mm]\n",
       "\n",
       "<syft.nn.sigmoid at 4>\n",
       "\t A:[syft.FloatTensor:10 grad:17 size:4x1 c:[11] p:[9] init:sigmoid]\n"
      ]
     },
     "execution_count": 6,
     "metadata": {},
     "output_type": "execute_result"
    }
   ],
   "source": [
    "model"
   ]
  },
  {
   "cell_type": "code",
   "execution_count": 8,
   "metadata": {},
   "outputs": [
    {
     "data": {
      "text/plain": [
       "[[  1.15259400e-27]\n",
       " [  9.12852300e-28]\n",
       " [  1.00000000e+00]\n",
       " [  9.99999900e-01]]\n",
       "[syft.FloatTensor:10 grad:17 size:4x1 c:[11] p:[9] init:sigmoid]\n",
       "\n",
       "\t-----------children-----------\n",
       "\t[syft.FloatTensor:11 grad:17 size:4x1 c:[12] p:[10, 6] init:sub_elem]\n",
       "\t------------------------------\n",
       "\n",
       "\t-----------creators-----------\n",
       "\t[syft.FloatTensor:9 grad:22 size:4x1 c:[10] p:[8, 3] init:mm]\n",
       "\t------------------------------\n",
       "\n"
      ]
     },
     "execution_count": 8,
     "metadata": {},
     "output_type": "execute_result"
    }
   ],
   "source": [
    "tensors[10]"
   ]
  },
  {
   "cell_type": "code",
   "execution_count": null,
   "metadata": {},
   "outputs": [],
   "source": []
  },
  {
   "cell_type": "code",
   "execution_count": null,
   "metadata": {
    "collapsed": true
   },
   "outputs": [],
   "source": []
  }
 ],
 "metadata": {
  "kernelspec": {
   "display_name": "Python 3",
   "language": "python",
   "name": "python3"
  },
  "language_info": {
   "codemirror_mode": {
    "name": "ipython",
    "version": 3
   },
   "file_extension": ".py",
   "mimetype": "text/x-python",
   "name": "python",
   "nbconvert_exporter": "python",
   "pygments_lexer": "ipython3",
   "version": "3.6.1"
  }
 },
 "nbformat": 4,
 "nbformat_minor": 2
}
