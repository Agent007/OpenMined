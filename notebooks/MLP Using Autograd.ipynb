{
 "cells": [
  {
   "cell_type": "code",
   "execution_count": 1,
   "metadata": {
    "collapsed": true
   },
   "outputs": [],
   "source": [
    "import syft\n",
    "import syft.nn as nn\n",
    "import syft.controller\n",
    "import imp\n",
    "imp.reload(syft.controller)\n",
    "imp.reload(syft.nn)\n",
    "imp.reload(syft)\n",
    "\n",
    "import numpy as np\n",
    "from syft import FloatTensor\n",
    "\n"
   ]
  },
  {
   "cell_type": "code",
   "execution_count": 20,
   "metadata": {
    "collapsed": true
   },
   "outputs": [],
   "source": [
    "input = FloatTensor([[0,0,1],[0,1.0,1],[1,0,1],[1,1,1]], autograd=True)\n",
    "target = FloatTensor([[0],[0],[1],[1]]).autograd(True)\n",
    "grad = FloatTensor([[1],[1],[1],[1]]).autograd(False)\n",
    "\n",
    "weights_0_1 = FloatTensor(np.random.rand(3,4) - 0.5).autograd(True)\n",
    "weights_1_2 = FloatTensor(np.random.rand(4,1) - 0.5).autograd(True)\n"
   ]
  },
  {
   "cell_type": "code",
   "execution_count": 23,
   "metadata": {},
   "outputs": [],
   "source": [
    "\n",
    "layer_1 = input.mm(weights_0_1).sigmoid()\n",
    "layer_2 = layer_1.mm(weights_1_2).sigmoid()\n",
    "\n",
    "loss = (layer_2 - target) ** 2 # Mean Squared Error Loss\n",
    "\n",
    "loss.backward(grad)"
   ]
  },
  {
   "cell_type": "code",
   "execution_count": 24,
   "metadata": {},
   "outputs": [
    {
     "data": {
      "text/plain": [
       "[[-0.3297352  -0.2993129  -0.4437857   0.02089651]\n",
       " [ 0.1366265  -0.00695852  0.06232419  0.4959927 ]\n",
       " [-0.2051616  -0.07383573 -0.02867879  0.1908525 ]]\n",
       "[syft.FloatTensor:144 grad:None size:3x4 c:[146] p:[] init:]\n",
       "\n",
       "\t-----------children-----------\n",
       "\t[syft.FloatTensor:146 grad:None size:4x4 c:[147] p:[141, 144] init:mm]\n",
       "\t------------------------------\n",
       "\n"
      ]
     },
     "execution_count": 24,
     "metadata": {},
     "output_type": "execute_result"
    }
   ],
   "source": [
    "weights_0_1"
   ]
  },
  {
   "cell_type": "code",
   "execution_count": null,
   "metadata": {
    "collapsed": true
   },
   "outputs": [],
   "source": [
    "weights_0_1 -= weights_0_1.grad() * 0.5\n",
    "weights_1_2 -= weights_1_2.grad() * 0.5\n",
    "\n",
    "print(loss.to_numpy().sum())"
   ]
  }
 ],
 "metadata": {
  "kernelspec": {
   "display_name": "Python 3",
   "language": "python",
   "name": "python3"
  },
  "language_info": {
   "codemirror_mode": {
    "name": "ipython",
    "version": 3
   },
   "file_extension": ".py",
   "mimetype": "text/x-python",
   "name": "python",
   "nbconvert_exporter": "python",
   "pygments_lexer": "ipython3",
   "version": "3.6.1"
  }
 },
 "nbformat": 4,
 "nbformat_minor": 2
}
