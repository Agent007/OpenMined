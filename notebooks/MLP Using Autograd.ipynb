{
 "cells": [
  {
   "cell_type": "code",
   "execution_count": 14,
   "metadata": {
    "collapsed": true
   },
   "outputs": [],
   "source": [
    "import syft\n",
    "import syft.nn as nn\n",
    "from syft.controller import tensors, models\n",
    "import imp\n",
    "imp.reload(syft.controller)\n",
    "imp.reload(syft.nn)\n",
    "imp.reload(syft)\n",
    "\n",
    "import numpy as np\n",
    "from syft import FloatTensor\n",
    "import torch\n",
    "from torch.autograd import Variable"
   ]
  },
  {
   "cell_type": "code",
   "execution_count": 25,
   "metadata": {
    "collapsed": true
   },
   "outputs": [],
   "source": [
    "input = FloatTensor([[0,0,1],[0,1.0,1],[1,0,1],[1,1,1]], autograd=True)\n",
    "target = FloatTensor([[0],[0],[1],[1]]).autograd(True)\n",
    "grad = FloatTensor([[1],[1],[1],[1]]).autograd(False)\n",
    "\n",
    "weights = FloatTensor([[0.2],[0.1],[0.3]]).autograd(True)"
   ]
  },
  {
   "cell_type": "code",
   "execution_count": 26,
   "metadata": {
    "collapsed": true
   },
   "outputs": [],
   "source": [
    "input_t = Variable(torch.FloatTensor(input.to_numpy()), requires_grad=True)\n",
    "target_t = Variable(torch.FloatTensor(target.to_numpy()), requires_grad=True)\n",
    "weights_t = Variable(torch.FloatTensor(weights.to_numpy()), requires_grad=True)\n",
    "\n",
    "grad_t = Variable(torch.FloatTensor(grad.to_numpy()))"
   ]
  },
  {
   "cell_type": "code",
   "execution_count": 27,
   "metadata": {},
   "outputs": [
    {
     "name": "stdout",
     "output_type": "stream",
     "text": [
      "0.9565075039863586\n"
     ]
    },
    {
     "data": {
      "text/plain": [
       "Variable containing:\n",
       "-0.3396\n",
       " 0.1255\n",
       " 0.2290\n",
       "[torch.FloatTensor of size 3x1]"
      ]
     },
     "execution_count": 27,
     "metadata": {},
     "output_type": "execute_result"
    }
   ],
   "source": [
    "weights_t.grad = None\n",
    "target_t.grad = None\n",
    "input_t.grad = None\n",
    "\n",
    "layer_1_t = input_t.mm(weights_t).sigmoid()\n",
    "\n",
    "diff_t = layer_1_t - target_t\n",
    "loss_t = diff_t ** 2\n",
    "loss_t.backward(grad_t)\n",
    "\n",
    "print(loss_t.sum().data[0])\n",
    "\n",
    "weights_t.data -= weights_t.grad.data\n",
    "weights_t.grad"
   ]
  },
  {
   "cell_type": "code",
   "execution_count": 28,
   "metadata": {},
   "outputs": [
    {
     "data": {
      "text/plain": [
       "[[-0.3395834]\n",
       " [ 0.1255458]\n",
       " [ 0.2289533]]\n",
       "[syft.FloatTensor:123 grad:None size:3x1 c:[] p:[122, 119] init:mm]\n",
       "\n",
       "\t-----------creators-----------\n",
       "\t[syft.FloatTensor:122 grad:None size:3x4 c:[123] p:[101] init:transpose]\n",
       "\t[syft.FloatTensor:119 grad:None size:4x1 c:[121, 123] p:[118, 113] init:mul_elem]\n",
       "\t------------------------------\n",
       "\n"
      ]
     },
     "execution_count": 28,
     "metadata": {},
     "output_type": "execute_result"
    }
   ],
   "source": [
    "layer_1_a = input.mm(weights)\n",
    "layer_1 = layer_1_a.sigmoid()\n",
    "\n",
    "diff = (layer_1 - target)\n",
    "loss = diff ** 2 # Mean Squared Error Loss\n",
    "\n",
    "loss.backward(grad)\n",
    "weights -= weights.grad()\n",
    "\n",
    "weights.grad()"
   ]
  },
  {
   "cell_type": "code",
   "execution_count": null,
   "metadata": {
    "collapsed": true
   },
   "outputs": [],
   "source": []
  }
 ],
 "metadata": {
  "kernelspec": {
   "display_name": "Python 3",
   "language": "python",
   "name": "python3"
  },
  "language_info": {
   "codemirror_mode": {
    "name": "ipython",
    "version": 3
   },
   "file_extension": ".py",
   "mimetype": "text/x-python",
   "name": "python",
   "nbconvert_exporter": "python",
   "pygments_lexer": "ipython3",
   "version": "3.6.1"
  }
 },
 "nbformat": 4,
 "nbformat_minor": 2
}
