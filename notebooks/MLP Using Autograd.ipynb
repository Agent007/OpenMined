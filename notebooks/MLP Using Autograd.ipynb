{
 "cells": [
  {
   "cell_type": "code",
   "execution_count": 1,
   "metadata": {
    "collapsed": true
   },
   "outputs": [],
   "source": [
    "import syft\n",
    "import syft.nn as nn\n",
    "from syft.controller import tensors, models\n",
    "import imp\n",
    "imp.reload(syft.controller)\n",
    "imp.reload(syft.nn)\n",
    "imp.reload(syft)\n",
    "\n",
    "import numpy as np\n",
    "from syft import FloatTensor\n",
    "import torch\n",
    "from torch.autograd import Variable"
   ]
  },
  {
   "cell_type": "code",
   "execution_count": 2,
   "metadata": {},
   "outputs": [],
   "source": [
    "input = FloatTensor([[0,0,1],[0,1.0,1],[1,0,1],[1,1,1]], autograd=True)\n",
    "target = FloatTensor([[0],[0],[1],[1]]).autograd(True)\n",
    "grad = FloatTensor([[1],[1],[1],[1]]).autograd(False)\n",
    "\n",
    "np.random.seed(1)\n",
    "\n",
    "weights1 = FloatTensor(np.random.rand(3,4)).autograd(True)\n",
    "weights2 = FloatTensor(np.random.rand(4,1)).autograd(True)\n",
    "\n",
    "input_t = Variable(torch.FloatTensor(input.to_numpy()), requires_grad=True)\n",
    "target_t = Variable(torch.FloatTensor(target.to_numpy()), requires_grad=True)\n",
    "weights1_t = Variable(torch.FloatTensor(weights1.to_numpy()), requires_grad=True)\n",
    "weights2_t = Variable(torch.FloatTensor(weights2.to_numpy()), requires_grad=True)\n",
    "\n",
    "grad_t = Variable(torch.FloatTensor(grad.to_numpy()))"
   ]
  },
  {
   "cell_type": "code",
   "execution_count": 8,
   "metadata": {},
   "outputs": [
    {
     "data": {
      "text/plain": [
       "\n",
       " 0.2735 -3.6114  1.7777 -2.3399\n",
       "-0.1450  2.5557 -0.7018  1.2044\n",
       "-0.2877  5.0704 -1.4171  2.4817\n",
       "[torch.FloatTensor of size 3x4]"
      ]
     },
     "execution_count": 8,
     "metadata": {},
     "output_type": "execute_result"
    }
   ],
   "source": [
    "weights1_t.grad = None\n",
    "weights2_t.grad = None\n",
    "target_t.grad = None\n",
    "input_t.grad = None\n",
    "\n",
    "layer_1_t = input_t.mm(weights1_t).sigmoid()\n",
    "layer_2_t = layer_1_t.mm(weights2_t).sigmoid()\n",
    "\n",
    "diff_t = layer_2_t - target_t\n",
    "loss_t = diff_t ** 2\n",
    "loss_t.backward(grad_t)\n",
    "\n",
    "#print(loss_t.sum().data[0])\n",
    "\n",
    "weights1_t.data -= weights1_t.grad.data\n",
    "weights2_t.data -= weights2_t.grad.data\n",
    "weights1_t.grad.data * 100"
   ]
  },
  {
   "cell_type": "code",
   "execution_count": 9,
   "metadata": {},
   "outputs": [
    {
     "data": {
      "text/plain": [
       "\n",
       " 0.1269\n",
       " 0.1091\n",
       " 0.1616\n",
       " 0.1567\n",
       "[torch.FloatTensor of size 4x1]"
      ]
     },
     "execution_count": 9,
     "metadata": {},
     "output_type": "execute_result"
    }
   ],
   "source": [
    "weights2_t.grad.data"
   ]
  },
  {
   "cell_type": "code",
   "execution_count": 10,
   "metadata": {},
   "outputs": [],
   "source": [
    "layer_1 = input.mm(weights1).sigmoid()\n",
    "layer_2 = layer_1.mm(weights2).sigmoid()\n",
    "\n",
    "diff = (layer_2 - target)\n",
    "loss = diff ** 2 # Mean Squared Error Loss\n",
    "\n",
    "loss.backward(grad)\n",
    "weights1 -= weights1.grad()\n",
    "weights2 -= weights2.grad()"
   ]
  },
  {
   "cell_type": "code",
   "execution_count": 11,
   "metadata": {},
   "outputs": [
    {
     "data": {
      "text/plain": [
       "[[ 0.2734909 -3.611425   1.777665  -2.339926 ]\n",
       " [-0.1450036  2.55574   -0.7018257  1.204421 ]\n",
       " [-0.2877049  5.070414  -1.417091   2.481702 ]]\n",
       "[syft.FloatTensor:38 grad:None size:3x4 c:[] p:[35, 39] init:mul_scalar]\n",
       "\n",
       "\t-----------creators-----------\n",
       "\t[syft.FloatTensor:35 grad:None size:3x4 c:[38] p:[33, 31] init:mm]\n",
       "\t[syft.FloatTensor:39 grad:None size:1 c:[] p:[] init:mul_scalar]\n",
       "\t------------------------------\n",
       "\n"
      ]
     },
     "execution_count": 11,
     "metadata": {},
     "output_type": "execute_result"
    }
   ],
   "source": [
    "weights1.grad() * 100"
   ]
  },
  {
   "cell_type": "code",
   "execution_count": 12,
   "metadata": {},
   "outputs": [
    {
     "data": {
      "text/plain": [
       "[[ 0.1269271]\n",
       " [ 0.109072 ]\n",
       " [ 0.1615881]\n",
       " [ 0.15669  ]]\n",
       "[syft.FloatTensor:36 grad:None size:4x1 c:[] p:[24, 22] init:mm]\n",
       "\n",
       "\t-----------creators-----------\n",
       "\t[syft.FloatTensor:24 grad:None size:4x4 c:[36] p:[7] init:transpose]\n",
       "\t[syft.FloatTensor:22 grad:None size:4x1 c:[25, 36] p:[21, 16] init:mul_elem]\n",
       "\t------------------------------\n",
       "\n"
      ]
     },
     "execution_count": 12,
     "metadata": {},
     "output_type": "execute_result"
    }
   ],
   "source": [
    "weights2.grad()"
   ]
  },
  {
   "cell_type": "code",
   "execution_count": null,
   "metadata": {},
   "outputs": [],
   "source": []
  },
  {
   "cell_type": "code",
   "execution_count": 13,
   "metadata": {},
   "outputs": [
    {
     "data": {
      "text/plain": [
       "[[ 0.5928485  0.6099998  0.6026495  0.6512309]\n",
       " [ 0.6253144  0.6211784  0.6459926  0.7194341]\n",
       " [ 0.6896269  0.7662356  0.6028802  0.719698 ]\n",
       " [ 0.7180458  0.7745909  0.646213   0.7790547]]\n",
       "[syft.FloatTensor:7 grad:24 size:4x4 c:[8, 25, 35] p:[6] init:sigmoid]\n",
       "\n",
       "\t-----------children-----------\n",
       "\t[syft.FloatTensor:8 grad:22 size:4x1 c:[9] p:[7, 5] init:mm]\n",
       "\t[syft.FloatTensor:25 grad:None size:4x4 c:[26, 29] p:[7] init:copy]\n",
       "\t[syft.FloatTensor:35 grad:None size:4x4 c:[36] p:[7] init:transpose]\n",
       "\t------------------------------\n",
       "\n",
       "\t-----------creators-----------\n",
       "\t[syft.FloatTensor:6 grad:30 size:4x4 c:[7] p:[1, 4] init:mm]\n",
       "\t------------------------------\n",
       "\n"
      ]
     },
     "execution_count": 13,
     "metadata": {},
     "output_type": "execute_result"
    }
   ],
   "source": [
    "tensors[7]"
   ]
  },
  {
   "cell_type": "code",
   "execution_count": 14,
   "metadata": {},
   "outputs": [
    {
     "data": {
      "text/plain": [
       "False"
      ]
     },
     "execution_count": 14,
     "metadata": {},
     "output_type": "execute_result"
    }
   ],
   "source": [
    "tensors[25].autograd()"
   ]
  },
  {
   "cell_type": "code",
   "execution_count": 15,
   "metadata": {},
   "outputs": [
    {
     "data": {
      "text/plain": [
       "True"
      ]
     },
     "execution_count": 15,
     "metadata": {},
     "output_type": "execute_result"
    }
   ],
   "source": [
    "tensors[35].autograd()"
   ]
  },
  {
   "cell_type": "code",
   "execution_count": null,
   "metadata": {
    "collapsed": true
   },
   "outputs": [],
   "source": []
  }
 ],
 "metadata": {
  "kernelspec": {
   "display_name": "Python 3",
   "language": "python",
   "name": "python3"
  },
  "language_info": {
   "codemirror_mode": {
    "name": "ipython",
    "version": 3
   },
   "file_extension": ".py",
   "mimetype": "text/x-python",
   "name": "python",
   "nbconvert_exporter": "python",
   "pygments_lexer": "ipython3",
   "version": "3.6.1"
  }
 },
 "nbformat": 4,
 "nbformat_minor": 2
}
