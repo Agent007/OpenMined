{
 "cells": [
  {
   "cell_type": "code",
   "execution_count": 1,
   "metadata": {},
   "outputs": [],
   "source": [
    "import syft\n",
    "import syft.nn as nn\n",
    "from syft.controller import tensors, models\n",
    "import imp\n",
    "imp.reload(syft.controller)\n",
    "imp.reload(syft.nn)\n",
    "imp.reload(syft)\n",
    "\n",
    "import numpy as np\n",
    "from syft import FloatTensor"
   ]
  },
  {
   "cell_type": "code",
   "execution_count": 2,
   "metadata": {
    "collapsed": true
   },
   "outputs": [],
   "source": [
    "model = nn.Sequential([\n",
    "    nn.Linear(3,4),\n",
    "    nn.Sigmoid(),\n",
    "    nn.Linear(4,1),\n",
    "    nn.Sigmoid()\n",
    "])"
   ]
  },
  {
   "cell_type": "code",
   "execution_count": 3,
   "metadata": {},
   "outputs": [
    {
     "data": {
      "text/plain": [
       "<syft.nn.linear at 61>\n",
       "\t W:[syft.FloatTensor:232 grad:None size:3x4]\n",
       "<syft.nn.sigmoid at 62>\n",
       "<syft.nn.linear at 63>\n",
       "\t W:[syft.FloatTensor:234 grad:None size:4x1]\n",
       "<syft.nn.sigmoid at 64>"
      ]
     },
     "execution_count": 3,
     "metadata": {},
     "output_type": "execute_result"
    }
   ],
   "source": [
    "model"
   ]
  },
  {
   "cell_type": "code",
   "execution_count": 4,
   "metadata": {},
   "outputs": [
    {
     "data": {
      "text/plain": [
       "[<syft.nn.linear at 61>\n",
       " \t W:[syft.FloatTensor:232 grad:None size:3x4],\n",
       " <syft.nn.sigmoid at 62>,\n",
       " <syft.nn.linear at 63>\n",
       " \t W:[syft.FloatTensor:234 grad:None size:4x1],\n",
       " <syft.nn.sigmoid at 64>]"
      ]
     },
     "execution_count": 4,
     "metadata": {},
     "output_type": "execute_result"
    }
   ],
   "source": [
    "m = model.models()\n",
    "m"
   ]
  },
  {
   "cell_type": "code",
   "execution_count": 5,
   "metadata": {},
   "outputs": [
    {
     "data": {
      "text/plain": [
       "[[[ 0.9993694   0.5485256   0.3619677  -0.07908762]\n",
       "  [ 0.1888548   0.5695789   0.8287675  -0.7252917 ]\n",
       "  [-0.4862165   0.1122268   0.5645595  -0.342375  ]]\n",
       " [syft.FloatTensor:232 grad:None size:3x4], [[ 0.9993694 ]\n",
       "  [ 0.5485256 ]\n",
       "  [ 0.3619677 ]\n",
       "  [-0.07908762]]\n",
       " [syft.FloatTensor:234 grad:None size:4x1]]"
      ]
     },
     "execution_count": 5,
     "metadata": {},
     "output_type": "execute_result"
    }
   ],
   "source": [
    "p = model.parameters()\n",
    "p"
   ]
  },
  {
   "cell_type": "code",
   "execution_count": 6,
   "metadata": {
    "collapsed": true
   },
   "outputs": [],
   "source": [
    "input = FloatTensor([[0,0,1],[0,1.0,1],[1,0,1],[1,1,1]], autograd=True)\n",
    "target = FloatTensor([[0],[0],[1],[1]], autograd=True)"
   ]
  },
  {
   "cell_type": "code",
   "execution_count": 7,
   "metadata": {
    "collapsed": true
   },
   "outputs": [],
   "source": [
    "pred = model(input)"
   ]
  },
  {
   "cell_type": "code",
   "execution_count": 8,
   "metadata": {},
   "outputs": [
    {
     "data": {
      "text/plain": [
       "<syft.nn.linear at 61>\n",
       "\t W:[syft.FloatTensor:232 grad:None size:3x4]\n",
       "\t A:[syft.FloatTensor:250 grad:None size:4x4]\n",
       "\n",
       "<syft.nn.sigmoid at 62>\n",
       "\t A:[syft.FloatTensor:251 grad:None size:4x4]\n",
       "\n",
       "<syft.nn.linear at 63>\n",
       "\t W:[syft.FloatTensor:234 grad:None size:4x1]\n",
       "\t A:[syft.FloatTensor:252 grad:None size:4x1]\n",
       "\n",
       "<syft.nn.sigmoid at 64>\n",
       "\t A:[syft.FloatTensor:253 grad:None size:4x1]\n"
      ]
     },
     "execution_count": 8,
     "metadata": {},
     "output_type": "execute_result"
    }
   ],
   "source": [
    "model"
   ]
  },
  {
   "cell_type": "code",
   "execution_count": 9,
   "metadata": {},
   "outputs": [
    {
     "data": {
      "text/plain": [
       "[[ 0.3807853  0.5280273  0.6375068  0.4152327]\n",
       " [ 0.4262026  0.6641416  0.8011228  0.2558471]\n",
       " [ 0.6255453  0.6594294  0.7163702  0.3961668]\n",
       " [ 0.6686327  0.7738765  0.8526193  0.2410824]]\n",
       "[syft.FloatTensor:92 grad:120 size:4x4]\n",
       "\n",
       "\t-----------children-----------\n",
       "\t[syft.FloatTensor:93 grad:118 size:4x1]\n",
       "\t------------------------------\n",
       "\n",
       "\t-----------creators-----------\n",
       "\t[syft.FloatTensor:91 grad:125 size:4x4]\n",
       "\t------------------------------\n",
       "\n"
      ]
     },
     "execution_count": 9,
     "metadata": {},
     "output_type": "execute_result"
    }
   ],
   "source": [
    "tensors[92]"
   ]
  },
  {
   "cell_type": "code",
   "execution_count": 10,
   "metadata": {},
   "outputs": [
    {
     "data": {
      "text/plain": [
       "<syft.nn.sigmoid at 64>\n",
       "\t A:[syft.FloatTensor:253 grad:None size:4x1]\n"
      ]
     },
     "execution_count": 10,
     "metadata": {},
     "output_type": "execute_result"
    }
   ],
   "source": [
    "models[64]"
   ]
  },
  {
   "cell_type": "code",
   "execution_count": 11,
   "metadata": {
    "collapsed": true
   },
   "outputs": [],
   "source": [
    "loss = pred"
   ]
  },
  {
   "cell_type": "code",
   "execution_count": 12,
   "metadata": {
    "collapsed": true
   },
   "outputs": [],
   "source": [
    "loss.backward()"
   ]
  },
  {
   "cell_type": "code",
   "execution_count": 13,
   "metadata": {},
   "outputs": [
    {
     "data": {
      "text/plain": [
       "<syft.nn.linear at 61>\n",
       "\t W:[syft.FloatTensor:232 grad:290 size:3x4]\n",
       "\t A:[syft.FloatTensor:250 grad:286 size:4x4]\n",
       "\n",
       "<syft.nn.sigmoid at 62>\n",
       "\t A:[syft.FloatTensor:251 grad:281 size:4x4]\n",
       "\n",
       "<syft.nn.linear at 63>\n",
       "\t W:[syft.FloatTensor:234 grad:292 size:4x1]\n",
       "\t A:[syft.FloatTensor:252 grad:279 size:4x1]\n",
       "\n",
       "<syft.nn.sigmoid at 64>\n",
       "\t A:[syft.FloatTensor:253 grad:274 size:4x1]\n"
      ]
     },
     "execution_count": 13,
     "metadata": {},
     "output_type": "execute_result"
    }
   ],
   "source": [
    "model"
   ]
  },
  {
   "cell_type": "code",
   "execution_count": 14,
   "metadata": {},
   "outputs": [
    {
     "ename": "Exception",
     "evalue": "Unity Error: System.InvalidOperationException: Tensors cannot be added since they have different sizes: 4 != 12\n  at OpenMined.Syft.Tensor.FloatTensor.SameSizeDimensionsShapeAndLocation (OpenMined.Syft.Tensor.FloatTensor& tensor) [0x00035] in /Users/atrask/Laboratory/openmined/OpenMined/UnityProject/Assets/OpenMined/Syft/Tensor/FloatTensor.Helpers.cs:13 \n  at OpenMined.Syft.Tensor.FloatTensor.Add (OpenMined.Syft.Tensor.FloatTensor x, System.Boolean inline) [0x00043] in /Users/atrask/Laboratory/openmined/OpenMined/UnityProject/Assets/OpenMined/Syft/Tensor/FloatTensor.Ops.cs:48 \n  at OpenMined.Syft.Tensor.FloatTensor.ProcessMessage (OpenMined.Network.Utils.Command msgObj, OpenMined.Network.Controllers.SyftController ctrl) [0x006da] in /Users/atrask/Laboratory/openmined/OpenMined/UnityProject/Assets/OpenMined/Syft/Tensor/FloatTensor.cs:197 \n  at OpenMined.Network.Controllers.SyftController.processMessage (System.String json_message) [0x0012e] in /Users/atrask/Laboratory/openmined/OpenMined/UnityProject/Assets/OpenMined/Network/Controllers/SyftController.cs:120 ",
     "output_type": "error",
     "traceback": [
      "\u001b[0;31m---------------------------------------------------------------------------\u001b[0m",
      "\u001b[0;31mException\u001b[0m                                 Traceback (most recent call last)",
      "\u001b[0;32m<ipython-input-14-c73fac42678d>\u001b[0m in \u001b[0;36m<module>\u001b[0;34m()\u001b[0m\n\u001b[1;32m      1\u001b[0m \u001b[0;31m# Example of error handling\u001b[0m\u001b[0;34m\u001b[0m\u001b[0;34m\u001b[0m\u001b[0m\n\u001b[0;32m----> 2\u001b[0;31m \u001b[0minput\u001b[0m \u001b[0;34m+\u001b[0m \u001b[0mtarget\u001b[0m\u001b[0;34m\u001b[0m\u001b[0m\n\u001b[0m",
      "\u001b[0;32m/Users/atrask/anaconda/lib/python3.6/site-packages/syft-0.1.0-py3.6.egg/syft/tensor.py\u001b[0m in \u001b[0;36m__add__\u001b[0;34m(self, x)\u001b[0m\n\u001b[1;32m     86\u001b[0m \u001b[0;34m\u001b[0m\u001b[0m\n\u001b[1;32m     87\u001b[0m     \u001b[0;32mdef\u001b[0m \u001b[0m__add__\u001b[0m\u001b[0;34m(\u001b[0m\u001b[0mself\u001b[0m\u001b[0;34m,\u001b[0m \u001b[0mx\u001b[0m\u001b[0;34m)\u001b[0m\u001b[0;34m:\u001b[0m\u001b[0;34m\u001b[0m\u001b[0m\n\u001b[0;32m---> 88\u001b[0;31m         \u001b[0;32mreturn\u001b[0m \u001b[0mself\u001b[0m\u001b[0;34m.\u001b[0m\u001b[0marithmetic_operation\u001b[0m\u001b[0;34m(\u001b[0m\u001b[0mx\u001b[0m\u001b[0;34m,\u001b[0m \u001b[0;34m\"add\"\u001b[0m\u001b[0;34m,\u001b[0m \u001b[0;32mFalse\u001b[0m\u001b[0;34m)\u001b[0m\u001b[0;34m\u001b[0m\u001b[0m\n\u001b[0m\u001b[1;32m     89\u001b[0m \u001b[0;34m\u001b[0m\u001b[0m\n\u001b[1;32m     90\u001b[0m     \u001b[0;32mdef\u001b[0m \u001b[0m__iadd__\u001b[0m\u001b[0;34m(\u001b[0m\u001b[0mself\u001b[0m\u001b[0;34m,\u001b[0m \u001b[0mx\u001b[0m\u001b[0;34m)\u001b[0m\u001b[0;34m:\u001b[0m\u001b[0;34m\u001b[0m\u001b[0m\n",
      "\u001b[0;32m/Users/atrask/anaconda/lib/python3.6/site-packages/syft-0.1.0-py3.6.egg/syft/tensor.py\u001b[0m in \u001b[0;36marithmetic_operation\u001b[0;34m(self, x, name, inline)\u001b[0m\n\u001b[1;32m    404\u001b[0m \u001b[0;34m\u001b[0m\u001b[0m\n\u001b[1;32m    405\u001b[0m         response = self.controller.send_json(\n\u001b[0;32m--> 406\u001b[0;31m             self.cmd(operation_cmd, [parameter]))  # sends the command\n\u001b[0m\u001b[1;32m    407\u001b[0m         \u001b[0;32mreturn\u001b[0m \u001b[0mFloatTensor\u001b[0m\u001b[0;34m(\u001b[0m\u001b[0mdata\u001b[0m\u001b[0;34m=\u001b[0m\u001b[0mint\u001b[0m\u001b[0;34m(\u001b[0m\u001b[0mresponse\u001b[0m\u001b[0;34m)\u001b[0m\u001b[0;34m,\u001b[0m \u001b[0mdata_is_pointer\u001b[0m\u001b[0;34m=\u001b[0m\u001b[0;32mTrue\u001b[0m\u001b[0;34m)\u001b[0m\u001b[0;34m\u001b[0m\u001b[0m\n\u001b[1;32m    408\u001b[0m \u001b[0;34m\u001b[0m\u001b[0m\n",
      "\u001b[0;32m/Users/atrask/anaconda/lib/python3.6/site-packages/syft-0.1.0-py3.6.egg/syft/controller.py\u001b[0m in \u001b[0;36msend_json\u001b[0;34m(message, response)\u001b[0m\n\u001b[1;32m    110\u001b[0m \u001b[0;34m\u001b[0m\u001b[0m\n\u001b[1;32m    111\u001b[0m         \u001b[0;32mif\u001b[0m\u001b[0;34m(\u001b[0m\u001b[0;34m\"Unity Error:\"\u001b[0m \u001b[0;34m==\u001b[0m \u001b[0mres\u001b[0m\u001b[0;34m[\u001b[0m\u001b[0;36m0\u001b[0m\u001b[0;34m:\u001b[0m\u001b[0;36m12\u001b[0m\u001b[0;34m]\u001b[0m\u001b[0;34m)\u001b[0m\u001b[0;34m:\u001b[0m\u001b[0;34m\u001b[0m\u001b[0m\n\u001b[0;32m--> 112\u001b[0;31m             \u001b[0;32mraise\u001b[0m \u001b[0mException\u001b[0m\u001b[0;34m(\u001b[0m\u001b[0mres\u001b[0m\u001b[0;34m)\u001b[0m\u001b[0;34m\u001b[0m\u001b[0m\n\u001b[0m\u001b[1;32m    113\u001b[0m         \u001b[0;32mreturn\u001b[0m \u001b[0mres\u001b[0m\u001b[0;34m\u001b[0m\u001b[0m\n\u001b[1;32m    114\u001b[0m \u001b[0;34m\u001b[0m\u001b[0m\n",
      "\u001b[0;31mException\u001b[0m: Unity Error: System.InvalidOperationException: Tensors cannot be added since they have different sizes: 4 != 12\n  at OpenMined.Syft.Tensor.FloatTensor.SameSizeDimensionsShapeAndLocation (OpenMined.Syft.Tensor.FloatTensor& tensor) [0x00035] in /Users/atrask/Laboratory/openmined/OpenMined/UnityProject/Assets/OpenMined/Syft/Tensor/FloatTensor.Helpers.cs:13 \n  at OpenMined.Syft.Tensor.FloatTensor.Add (OpenMined.Syft.Tensor.FloatTensor x, System.Boolean inline) [0x00043] in /Users/atrask/Laboratory/openmined/OpenMined/UnityProject/Assets/OpenMined/Syft/Tensor/FloatTensor.Ops.cs:48 \n  at OpenMined.Syft.Tensor.FloatTensor.ProcessMessage (OpenMined.Network.Utils.Command msgObj, OpenMined.Network.Controllers.SyftController ctrl) [0x006da] in /Users/atrask/Laboratory/openmined/OpenMined/UnityProject/Assets/OpenMined/Syft/Tensor/FloatTensor.cs:197 \n  at OpenMined.Network.Controllers.SyftController.processMessage (System.String json_message) [0x0012e] in /Users/atrask/Laboratory/openmined/OpenMined/UnityProject/Assets/OpenMined/Network/Controllers/SyftController.cs:120 "
     ]
    }
   ],
   "source": [
    "# Example of error handling\n",
    "input + target"
   ]
  },
  {
   "cell_type": "code",
   "execution_count": null,
   "metadata": {
    "collapsed": true
   },
   "outputs": [],
   "source": []
  }
 ],
 "metadata": {
  "kernelspec": {
   "display_name": "Python 3",
   "language": "python",
   "name": "python3"
  },
  "language_info": {
   "codemirror_mode": {
    "name": "ipython",
    "version": 3
   },
   "file_extension": ".py",
   "mimetype": "text/x-python",
   "name": "python",
   "nbconvert_exporter": "python",
   "pygments_lexer": "ipython3",
   "version": "3.6.1"
  }
 },
 "nbformat": 4,
 "nbformat_minor": 2
}
