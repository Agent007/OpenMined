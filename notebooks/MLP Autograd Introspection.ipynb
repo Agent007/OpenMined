{
 "cells": [
  {
   "cell_type": "code",
   "execution_count": 1,
   "metadata": {
    "collapsed": true
   },
   "outputs": [],
   "source": [
    "import syft\n",
    "import syft.nn as nn\n",
    "from syft.controller import tensors, models\n",
    "import imp\n",
    "imp.reload(syft.controller)\n",
    "imp.reload(syft.nn)\n",
    "imp.reload(syft)\n",
    "\n",
    "import numpy as np\n",
    "from syft import FloatTensor"
   ]
  },
  {
   "cell_type": "code",
   "execution_count": 3,
   "metadata": {
    "collapsed": true
   },
   "outputs": [],
   "source": [
    "model = nn.Sequential([\n",
    "    nn.Linear(3,4),\n",
    "    nn.Sigmoid(),\n",
    "    nn.Linear(4,1),\n",
    "    nn.Sigmoid()\n",
    "])"
   ]
  },
  {
   "cell_type": "code",
   "execution_count": 3,
   "metadata": {},
   "outputs": [
    {
     "name": "stdout",
     "output_type": "stream",
     "text": [
      "Creating Python FloatTensor\n",
      "Creating Python FloatTensor\n"
     ]
    }
   ],
   "source": [
    "input = FloatTensor([[0,0,1],[0,1.0,1],[1,0,1],[1,1,1]], autograd=True)\n",
    "target = FloatTensor([[0],[0],[1],[1]], autograd=True)"
   ]
  },
  {
   "cell_type": "code",
   "execution_count": 4,
   "metadata": {},
   "outputs": [],
   "source": [
    "pred = model(input)\n",
    "loss = (pred - target) ** 2\n",
    "loss.backward()\n",
    "\n",
    "for p in model.parameters():\n",
    "    p -= p.grad()"
   ]
  },
  {
   "cell_type": "code",
   "execution_count": 5,
   "metadata": {},
   "outputs": [
    {
     "data": {
      "text/plain": [
       "<syft.nn.linear at 1>\n",
       "\t W:[syft.FloatTensor:1 grad:33 size:3x4]\n",
       "\t A:[syft.FloatTensor:7 grad:29 size:4x4]\n",
       "\n",
       "<syft.nn.sigmoid at 2>\n",
       "\t A:[syft.FloatTensor:8 grad:24 size:4x4]\n",
       "\n",
       "<syft.nn.linear at 3>\n",
       "\t W:[syft.FloatTensor:3 grad:35 size:4x1]\n",
       "\t A:[syft.FloatTensor:9 grad:22 size:4x1]\n",
       "\n",
       "<syft.nn.sigmoid at 4>\n",
       "\t A:[syft.FloatTensor:10 grad:17 size:4x1]\n"
      ]
     },
     "execution_count": 5,
     "metadata": {},
     "output_type": "execute_result"
    }
   ],
   "source": [
    "model"
   ]
  },
  {
   "cell_type": "code",
   "execution_count": 6,
   "metadata": {},
   "outputs": [
    {
     "data": {
      "text/plain": [
       "[[ 0.4961088 ]\n",
       " [ 0.5515832 ]\n",
       " [ 0.05237074]\n",
       " [ 0.04025917]]\n",
       "[syft.FloatTensor:12 grad:14 size:4x1]\n",
       "\n",
       "\t-----------creators-----------\n",
       "\t[syft.FloatTensor:11 grad:17 size:4x1]\n",
       "\t[syft.FloatTensor:13 grad:None size:1]\n",
       "\t------------------------------\n",
       "\n"
      ]
     },
     "execution_count": 6,
     "metadata": {},
     "output_type": "execute_result"
    }
   ],
   "source": [
    "loss"
   ]
  },
  {
   "cell_type": "code",
   "execution_count": 7,
   "metadata": {
    "collapsed": true
   },
   "outputs": [],
   "source": [
    "pred = model(input)\n",
    "loss = (pred - target) ** 2\n",
    "loss.backward()\n",
    "\n",
    "for p in model.parameters():\n",
    "    p -= p.grad()"
   ]
  },
  {
   "cell_type": "code",
   "execution_count": 8,
   "metadata": {},
   "outputs": [
    {
     "data": {
      "text/plain": [
       "<syft.nn.linear at 1>\n",
       "\t W:[syft.FloatTensor:1 grad:33 size:3x4]\n",
       "\t A:[syft.FloatTensor:7 grad:29 size:4x4]\n",
       "\n",
       "<syft.nn.sigmoid at 2>\n",
       "\t A:[syft.FloatTensor:8 grad:24 size:4x4]\n",
       "\n",
       "<syft.nn.linear at 3>\n",
       "\t W:[syft.FloatTensor:3 grad:35 size:4x1]\n",
       "\t A:[syft.FloatTensor:9 grad:22 size:4x1]\n",
       "\n",
       "<syft.nn.sigmoid at 4>\n",
       "\t A:[syft.FloatTensor:10 grad:17 size:4x1]\n"
      ]
     },
     "execution_count": 8,
     "metadata": {},
     "output_type": "execute_result"
    }
   ],
   "source": [
    "model"
   ]
  },
  {
   "cell_type": "code",
   "execution_count": 9,
   "metadata": {},
   "outputs": [
    {
     "data": {
      "text/plain": [
       "[[ 0.3608543 ]\n",
       " [ 0.3937562 ]\n",
       " [ 0.113552  ]\n",
       " [ 0.09862112]]\n",
       "[syft.FloatTensor:12 grad:14 size:4x1]\n",
       "\n",
       "\t-----------creators-----------\n",
       "\t[syft.FloatTensor:11 grad:17 size:4x1]\n",
       "\t[syft.FloatTensor:13 grad:None size:1]\n",
       "\t------------------------------\n",
       "\n"
      ]
     },
     "execution_count": 9,
     "metadata": {},
     "output_type": "execute_result"
    }
   ],
   "source": [
    "loss"
   ]
  },
  {
   "cell_type": "code",
   "execution_count": null,
   "metadata": {
    "collapsed": true
   },
   "outputs": [],
   "source": []
  },
  {
   "cell_type": "code",
   "execution_count": 14,
   "metadata": {},
   "outputs": [
    {
     "ename": "Exception",
     "evalue": "Unity Error: System.InvalidOperationException: Tensors cannot be added since they have different sizes: 4 != 12\n  at OpenMined.Syft.Tensor.FloatTensor.SameSizeDimensionsShapeAndLocation (OpenMined.Syft.Tensor.FloatTensor& tensor) [0x00035] in /Users/atrask/Laboratory/openmined/OpenMined/UnityProject/Assets/OpenMined/Syft/Tensor/FloatTensor.Helpers.cs:13 \n  at OpenMined.Syft.Tensor.FloatTensor.Add (OpenMined.Syft.Tensor.FloatTensor x, System.Boolean inline) [0x00043] in /Users/atrask/Laboratory/openmined/OpenMined/UnityProject/Assets/OpenMined/Syft/Tensor/FloatTensor.Ops.cs:48 \n  at OpenMined.Syft.Tensor.FloatTensor.ProcessMessage (OpenMined.Network.Utils.Command msgObj, OpenMined.Network.Controllers.SyftController ctrl) [0x006da] in /Users/atrask/Laboratory/openmined/OpenMined/UnityProject/Assets/OpenMined/Syft/Tensor/FloatTensor.cs:197 \n  at OpenMined.Network.Controllers.SyftController.processMessage (System.String json_message) [0x0012e] in /Users/atrask/Laboratory/openmined/OpenMined/UnityProject/Assets/OpenMined/Network/Controllers/SyftController.cs:120 ",
     "output_type": "error",
     "traceback": [
      "\u001b[0;31m---------------------------------------------------------------------------\u001b[0m",
      "\u001b[0;31mException\u001b[0m                                 Traceback (most recent call last)",
      "\u001b[0;32m<ipython-input-14-c73fac42678d>\u001b[0m in \u001b[0;36m<module>\u001b[0;34m()\u001b[0m\n\u001b[1;32m      1\u001b[0m \u001b[0;31m# Example of error handling\u001b[0m\u001b[0;34m\u001b[0m\u001b[0;34m\u001b[0m\u001b[0m\n\u001b[0;32m----> 2\u001b[0;31m \u001b[0minput\u001b[0m \u001b[0;34m+\u001b[0m \u001b[0mtarget\u001b[0m\u001b[0;34m\u001b[0m\u001b[0m\n\u001b[0m",
      "\u001b[0;32m/Users/atrask/anaconda/lib/python3.6/site-packages/syft-0.1.0-py3.6.egg/syft/tensor.py\u001b[0m in \u001b[0;36m__add__\u001b[0;34m(self, x)\u001b[0m\n\u001b[1;32m     86\u001b[0m \u001b[0;34m\u001b[0m\u001b[0m\n\u001b[1;32m     87\u001b[0m     \u001b[0;32mdef\u001b[0m \u001b[0m__add__\u001b[0m\u001b[0;34m(\u001b[0m\u001b[0mself\u001b[0m\u001b[0;34m,\u001b[0m \u001b[0mx\u001b[0m\u001b[0;34m)\u001b[0m\u001b[0;34m:\u001b[0m\u001b[0;34m\u001b[0m\u001b[0m\n\u001b[0;32m---> 88\u001b[0;31m         \u001b[0;32mreturn\u001b[0m \u001b[0mself\u001b[0m\u001b[0;34m.\u001b[0m\u001b[0marithmetic_operation\u001b[0m\u001b[0;34m(\u001b[0m\u001b[0mx\u001b[0m\u001b[0;34m,\u001b[0m \u001b[0;34m\"add\"\u001b[0m\u001b[0;34m,\u001b[0m \u001b[0;32mFalse\u001b[0m\u001b[0;34m)\u001b[0m\u001b[0;34m\u001b[0m\u001b[0m\n\u001b[0m\u001b[1;32m     89\u001b[0m \u001b[0;34m\u001b[0m\u001b[0m\n\u001b[1;32m     90\u001b[0m     \u001b[0;32mdef\u001b[0m \u001b[0m__iadd__\u001b[0m\u001b[0;34m(\u001b[0m\u001b[0mself\u001b[0m\u001b[0;34m,\u001b[0m \u001b[0mx\u001b[0m\u001b[0;34m)\u001b[0m\u001b[0;34m:\u001b[0m\u001b[0;34m\u001b[0m\u001b[0m\n",
      "\u001b[0;32m/Users/atrask/anaconda/lib/python3.6/site-packages/syft-0.1.0-py3.6.egg/syft/tensor.py\u001b[0m in \u001b[0;36marithmetic_operation\u001b[0;34m(self, x, name, inline)\u001b[0m\n\u001b[1;32m    404\u001b[0m \u001b[0;34m\u001b[0m\u001b[0m\n\u001b[1;32m    405\u001b[0m         response = self.controller.send_json(\n\u001b[0;32m--> 406\u001b[0;31m             self.cmd(operation_cmd, [parameter]))  # sends the command\n\u001b[0m\u001b[1;32m    407\u001b[0m         \u001b[0;32mreturn\u001b[0m \u001b[0mFloatTensor\u001b[0m\u001b[0;34m(\u001b[0m\u001b[0mdata\u001b[0m\u001b[0;34m=\u001b[0m\u001b[0mint\u001b[0m\u001b[0;34m(\u001b[0m\u001b[0mresponse\u001b[0m\u001b[0;34m)\u001b[0m\u001b[0;34m,\u001b[0m \u001b[0mdata_is_pointer\u001b[0m\u001b[0;34m=\u001b[0m\u001b[0;32mTrue\u001b[0m\u001b[0;34m)\u001b[0m\u001b[0;34m\u001b[0m\u001b[0m\n\u001b[1;32m    408\u001b[0m \u001b[0;34m\u001b[0m\u001b[0m\n",
      "\u001b[0;32m/Users/atrask/anaconda/lib/python3.6/site-packages/syft-0.1.0-py3.6.egg/syft/controller.py\u001b[0m in \u001b[0;36msend_json\u001b[0;34m(message, response)\u001b[0m\n\u001b[1;32m    110\u001b[0m \u001b[0;34m\u001b[0m\u001b[0m\n\u001b[1;32m    111\u001b[0m         \u001b[0;32mif\u001b[0m\u001b[0;34m(\u001b[0m\u001b[0;34m\"Unity Error:\"\u001b[0m \u001b[0;34m==\u001b[0m \u001b[0mres\u001b[0m\u001b[0;34m[\u001b[0m\u001b[0;36m0\u001b[0m\u001b[0;34m:\u001b[0m\u001b[0;36m12\u001b[0m\u001b[0;34m]\u001b[0m\u001b[0;34m)\u001b[0m\u001b[0;34m:\u001b[0m\u001b[0;34m\u001b[0m\u001b[0m\n\u001b[0;32m--> 112\u001b[0;31m             \u001b[0;32mraise\u001b[0m \u001b[0mException\u001b[0m\u001b[0;34m(\u001b[0m\u001b[0mres\u001b[0m\u001b[0;34m)\u001b[0m\u001b[0;34m\u001b[0m\u001b[0m\n\u001b[0m\u001b[1;32m    113\u001b[0m         \u001b[0;32mreturn\u001b[0m \u001b[0mres\u001b[0m\u001b[0;34m\u001b[0m\u001b[0m\n\u001b[1;32m    114\u001b[0m \u001b[0;34m\u001b[0m\u001b[0m\n",
      "\u001b[0;31mException\u001b[0m: Unity Error: System.InvalidOperationException: Tensors cannot be added since they have different sizes: 4 != 12\n  at OpenMined.Syft.Tensor.FloatTensor.SameSizeDimensionsShapeAndLocation (OpenMined.Syft.Tensor.FloatTensor& tensor) [0x00035] in /Users/atrask/Laboratory/openmined/OpenMined/UnityProject/Assets/OpenMined/Syft/Tensor/FloatTensor.Helpers.cs:13 \n  at OpenMined.Syft.Tensor.FloatTensor.Add (OpenMined.Syft.Tensor.FloatTensor x, System.Boolean inline) [0x00043] in /Users/atrask/Laboratory/openmined/OpenMined/UnityProject/Assets/OpenMined/Syft/Tensor/FloatTensor.Ops.cs:48 \n  at OpenMined.Syft.Tensor.FloatTensor.ProcessMessage (OpenMined.Network.Utils.Command msgObj, OpenMined.Network.Controllers.SyftController ctrl) [0x006da] in /Users/atrask/Laboratory/openmined/OpenMined/UnityProject/Assets/OpenMined/Syft/Tensor/FloatTensor.cs:197 \n  at OpenMined.Network.Controllers.SyftController.processMessage (System.String json_message) [0x0012e] in /Users/atrask/Laboratory/openmined/OpenMined/UnityProject/Assets/OpenMined/Network/Controllers/SyftController.cs:120 "
     ]
    }
   ],
   "source": [
    "# Example of error handling\n",
    "input + target"
   ]
  },
  {
   "cell_type": "code",
   "execution_count": null,
   "metadata": {
    "collapsed": true
   },
   "outputs": [],
   "source": []
  }
 ],
 "metadata": {
  "kernelspec": {
   "display_name": "Python 3",
   "language": "python",
   "name": "python3"
  },
  "language_info": {
   "codemirror_mode": {
    "name": "ipython",
    "version": 3
   },
   "file_extension": ".py",
   "mimetype": "text/x-python",
   "name": "python",
   "nbconvert_exporter": "python",
   "pygments_lexer": "ipython3",
   "version": "3.6.1"
  }
 },
 "nbformat": 4,
 "nbformat_minor": 2
}
