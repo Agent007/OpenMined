{
 "cells": [
  {
   "cell_type": "code",
   "execution_count": 1,
   "metadata": {},
   "outputs": [],
   "source": [
    "import syft\n",
    "import syft.nn as nn\n",
    "from syft.controller import tensors, models\n",
    "import imp\n",
    "imp.reload(syft.controller)\n",
    "imp.reload(syft.nn)\n",
    "imp.reload(syft)\n",
    "\n",
    "import numpy as np\n",
    "from syft import FloatTensor\n",
    "\n",
    "import torch\n",
    "from torch.autograd import Variable"
   ]
  },
  {
   "cell_type": "code",
   "execution_count": 27,
   "metadata": {},
   "outputs": [
    {
     "data": {
      "text/plain": [
       "array([  9.94817376e-01,   1.05123174e+00,   5.59420674e-04,\n",
       "         3.44296306e-01,   5.35848093e+00,   1.37722701e-01,\n",
       "         4.46340919e-01,   6.18519783e-01,   2.82624197e+00,\n",
       "         2.71990252e+00], dtype=float32)"
      ]
     },
     "execution_count": 27,
     "metadata": {},
     "output_type": "execute_result"
    }
   ],
   "source": [
    "np.random.seed(1)\n",
    "a_ = np.random.rand(10)\n",
    "b_ = np.random.rand(10)\n",
    "\n",
    "\n",
    "# create tensors\n",
    "a = FloatTensor(a_, autograd=True)\n",
    "b = FloatTensor(b_, autograd=True)\n",
    "\n",
    "at = Variable(torch.FloatTensor(a_),requires_grad=True)\n",
    "bt = Variable(torch.FloatTensor(b_),requires_grad=True)\n",
    "ct = at / bt\n",
    "ct.backward(torch.ones(10))\n",
    "ct.data.numpy()"
   ]
  },
  {
   "cell_type": "code",
   "execution_count": 28,
   "metadata": {},
   "outputs": [
    {
     "data": {
      "text/plain": [
       "[  9.94817400e-01   1.05123200e+00   5.59420700e-04   3.44296300e-01\n",
       "   5.35848100e+00   1.37722700e-01   4.46340900e-01   6.18519800e-01\n",
       "   2.82624200e+00   2.71990300e+00]\n",
       "[syft.FloatTensor:38 grad:39 size:10 c:[] p:[36, 37] init:div_elem]\n",
       "\n",
       "\t-----------creators-----------\n",
       "\t[syft.FloatTensor:36 grad:40 size:10 c:[38] p:[] init:]\n",
       "\t[syft.FloatTensor:37 grad:41 size:10 c:[38] p:[] init:]\n",
       "\t------------------------------\n",
       "\n"
      ]
     },
     "execution_count": 28,
     "metadata": {},
     "output_type": "execute_result"
    }
   ],
   "source": [
    "c = a / b\n",
    "c.backward()\n",
    "c"
   ]
  },
  {
   "cell_type": "code",
   "execution_count": 29,
   "metadata": {},
   "outputs": [
    {
     "data": {
      "text/plain": [
       "array([ -2.37316418e+00,  -1.53415322e+00,  -2.73619220e-03,\n",
       "        -3.92084539e-01,  -1.95653564e+02,  -2.05412909e-01,\n",
       "        -1.06957996e+00,  -1.10708988e+00,  -2.01318016e+01,\n",
       "        -1.37298431e+01], dtype=float32)"
      ]
     },
     "execution_count": 29,
     "metadata": {},
     "output_type": "execute_result"
    }
   ],
   "source": [
    "bt.grad.data.numpy()"
   ]
  },
  {
   "cell_type": "code",
   "execution_count": 30,
   "metadata": {},
   "outputs": [
    {
     "data": {
      "text/plain": [
       "[  2.39795500e+00   1.38826300e+00   8.74318400e+03   3.30761600e+00\n",
       "   6.81403600e+00   1.08297100e+01   5.36883300e+00   2.89384700e+00\n",
       "   2.52036800e+00   1.85591900e+00]\n",
       "[syft.FloatTensor:41 grad:None size:10 c:[] p:[] init:div_elem]"
      ]
     },
     "execution_count": 30,
     "metadata": {},
     "output_type": "execute_result"
    }
   ],
   "source": [
    "b.grad()"
   ]
  },
  {
   "cell_type": "code",
   "execution_count": null,
   "metadata": {},
   "outputs": [],
   "source": []
  },
  {
   "cell_type": "code",
   "execution_count": null,
   "metadata": {
    "collapsed": true
   },
   "outputs": [],
   "source": []
  }
 ],
 "metadata": {
  "kernelspec": {
   "display_name": "Python 3",
   "language": "python",
   "name": "python3"
  },
  "language_info": {
   "codemirror_mode": {
    "name": "ipython",
    "version": 3
   },
   "file_extension": ".py",
   "mimetype": "text/x-python",
   "name": "python",
   "nbconvert_exporter": "python",
   "pygments_lexer": "ipython3",
   "version": "3.6.1"
  }
 },
 "nbformat": 4,
 "nbformat_minor": 2
}
