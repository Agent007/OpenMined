{
 "cells": [
  {
   "cell_type": "code",
   "execution_count": 88,
   "metadata": {},
   "outputs": [],
   "source": [
    "import syft\n",
    "import syft.nn as nn\n",
    "from syft.controller import tensors, models\n",
    "import imp\n",
    "imp.reload(syft.controller)\n",
    "imp.reload(syft.nn)\n",
    "imp.reload(syft)\n",
    "\n",
    "import numpy as np\n",
    "from syft import FloatTensor\n",
    "\n",
    "import torch"
   ]
  },
  {
   "cell_type": "code",
   "execution_count": 68,
   "metadata": {},
   "outputs": [],
   "source": [
    "np.random.seed(1)\n",
    "a_ = np.array([[1,2,3,4,5],[2,3,4,5,6]]).astype('float')\n",
    "b_ = np.array([[5,1,3,8,2],[2,5,3,2,5],[3,5,2,3,6]]).astype('float').transpose()"
   ]
  },
  {
   "cell_type": "code",
   "execution_count": 89,
   "metadata": {},
   "outputs": [],
   "source": [
    "at = Variable(torch.FloatTensor(a_),requires_grad=True)\n",
    "bt = Variable(torch.FloatTensor(b_),requires_grad=True)\n",
    "ct = at.sigmoid()"
   ]
  },
  {
   "cell_type": "code",
   "execution_count": 63,
   "metadata": {},
   "outputs": [
    {
     "data": {
      "text/plain": [
       "Variable containing:\n",
       " 1  2\n",
       " 2  3\n",
       " 3  4\n",
       "[torch.FloatTensor of size 3x2]"
      ]
     },
     "execution_count": 63,
     "metadata": {},
     "output_type": "execute_result"
    }
   ],
   "source": [
    "ct"
   ]
  },
  {
   "cell_type": "code",
   "execution_count": 64,
   "metadata": {},
   "outputs": [
    {
     "data": {
      "text/plain": [
       "\n",
       " 1  2\n",
       " 2  4\n",
       " 3  6\n",
       "[torch.FloatTensor of size 3x2]"
      ]
     },
     "execution_count": 64,
     "metadata": {},
     "output_type": "execute_result"
    }
   ],
   "source": [
    "gt = torch.ones(3,2).cumsum(0).cumsum(1)\n",
    "gt"
   ]
  },
  {
   "cell_type": "code",
   "execution_count": 65,
   "metadata": {},
   "outputs": [
    {
     "data": {
      "text/plain": [
       "array([[ 1.,  2.],\n",
       "       [ 2.,  3.],\n",
       "       [ 3.,  4.]], dtype=float32)"
      ]
     },
     "execution_count": 65,
     "metadata": {},
     "output_type": "execute_result"
    }
   ],
   "source": [
    "ct.backward(gt)\n",
    "ct.data.numpy()"
   ]
  },
  {
   "cell_type": "code",
   "execution_count": 67,
   "metadata": {},
   "outputs": [
    {
     "data": {
      "text/plain": [
       "Variable containing:\n",
       " 1  2  3\n",
       " 2  4  6\n",
       "[torch.FloatTensor of size 2x3]"
      ]
     },
     "execution_count": 67,
     "metadata": {},
     "output_type": "execute_result"
    }
   ],
   "source": [
    "at.grad"
   ]
  },
  {
   "cell_type": "code",
   "execution_count": null,
   "metadata": {
    "collapsed": true
   },
   "outputs": [],
   "source": []
  },
  {
   "cell_type": "code",
   "execution_count": null,
   "metadata": {
    "collapsed": true
   },
   "outputs": [],
   "source": []
  },
  {
   "cell_type": "code",
   "execution_count": null,
   "metadata": {
    "collapsed": true
   },
   "outputs": [],
   "source": []
  },
  {
   "cell_type": "code",
   "execution_count": null,
   "metadata": {
    "collapsed": true
   },
   "outputs": [],
   "source": []
  },
  {
   "cell_type": "code",
   "execution_count": 20,
   "metadata": {
    "collapsed": true
   },
   "outputs": [],
   "source": [
    "a = FloatTensor(a_,autograd=True)"
   ]
  },
  {
   "cell_type": "code",
   "execution_count": 21,
   "metadata": {
    "collapsed": true
   },
   "outputs": [],
   "source": [
    "b = FloatTensor(b_,autograd=True)"
   ]
  },
  {
   "cell_type": "code",
   "execution_count": 22,
   "metadata": {
    "collapsed": true
   },
   "outputs": [],
   "source": [
    "grad = FloatTensor(np.ones((2,3)),autograd=False)"
   ]
  },
  {
   "cell_type": "code",
   "execution_count": 29,
   "metadata": {},
   "outputs": [],
   "source": [
    "c = a.mm(b)"
   ]
  },
  {
   "cell_type": "code",
   "execution_count": 30,
   "metadata": {},
   "outputs": [],
   "source": [
    "c.backward(grad)"
   ]
  },
  {
   "cell_type": "code",
   "execution_count": 31,
   "metadata": {},
   "outputs": [
    {
     "data": {
      "text/plain": [
       "[[ 58.  54.  61.]\n",
       " [ 77.  71.  80.]]\n",
       "[syft.FloatTensor:4 grad:3 size:2x3 c:[] p:[1, 2] init:mm]\n",
       "\n",
       "\t-----------creators-----------\n",
       "\t[syft.FloatTensor:1 grad:6 size:2x5 c:[4, 7] p:[] init:]\n",
       "\t[syft.FloatTensor:2 grad:8 size:5x3 c:[4, 5] p:[] init:]\n",
       "\t------------------------------\n",
       "\n"
      ]
     },
     "execution_count": 31,
     "metadata": {},
     "output_type": "execute_result"
    }
   ],
   "source": [
    "c"
   ]
  },
  {
   "cell_type": "code",
   "execution_count": 26,
   "metadata": {},
   "outputs": [
    {
     "data": {
      "text/plain": [
       "[[ 10.  11.   8.  13.  13.]\n",
       " [ 10.  11.   8.  13.  13.]]\n",
       "[syft.FloatTensor:6 grad:None size:2x5 c:[] p:[3, 5] init:mm]\n",
       "\n",
       "\t-----------creators-----------\n",
       "\t[syft.FloatTensor:3 grad:None size:2x3 c:[6, 8] p:[] init:]\n",
       "\t[syft.FloatTensor:5 grad:None size:3x5 c:[6] p:[2] init:transpose]\n",
       "\t------------------------------\n",
       "\n"
      ]
     },
     "execution_count": 26,
     "metadata": {},
     "output_type": "execute_result"
    }
   ],
   "source": [
    "a.grad()"
   ]
  },
  {
   "cell_type": "code",
   "execution_count": 27,
   "metadata": {},
   "outputs": [
    {
     "data": {
      "text/plain": [
       "[[  3.   3.   3.]\n",
       " [  5.   5.   5.]\n",
       " [  7.   7.   7.]\n",
       " [  9.   9.   9.]\n",
       " [ 11.  11.  11.]]\n",
       "[syft.FloatTensor:8 grad:None size:5x3 c:[] p:[7, 3] init:mm]\n",
       "\n",
       "\t-----------creators-----------\n",
       "\t[syft.FloatTensor:7 grad:None size:5x2 c:[8] p:[1] init:transpose]\n",
       "\t[syft.FloatTensor:3 grad:None size:2x3 c:[6, 8] p:[] init:]\n",
       "\t------------------------------\n",
       "\n"
      ]
     },
     "execution_count": 27,
     "metadata": {},
     "output_type": "execute_result"
    }
   ],
   "source": [
    "b.grad()"
   ]
  },
  {
   "cell_type": "code",
   "execution_count": 28,
   "metadata": {},
   "outputs": [
    {
     "data": {
      "text/plain": [
       "[[ 1.  1.  1.]\n",
       " [ 1.  1.  1.]]\n",
       "[syft.FloatTensor:3 grad:None size:2x3 c:[6, 8] p:[] init:]\n",
       "\n",
       "\t-----------children-----------\n",
       "\t[syft.FloatTensor:6 grad:None size:2x5 c:[] p:[3, 5] init:mm]\n",
       "\t[syft.FloatTensor:8 grad:None size:5x3 c:[] p:[7, 3] init:mm]\n",
       "\t------------------------------\n",
       "\n"
      ]
     },
     "execution_count": 28,
     "metadata": {},
     "output_type": "execute_result"
    }
   ],
   "source": [
    "grad"
   ]
  },
  {
   "cell_type": "code",
   "execution_count": null,
   "metadata": {
    "collapsed": true
   },
   "outputs": [],
   "source": []
  }
 ],
 "metadata": {
  "kernelspec": {
   "display_name": "Python 3",
   "language": "python",
   "name": "python3"
  },
  "language_info": {
   "codemirror_mode": {
    "name": "ipython",
    "version": 3
   },
   "file_extension": ".py",
   "mimetype": "text/x-python",
   "name": "python",
   "nbconvert_exporter": "python",
   "pygments_lexer": "ipython3",
   "version": "3.6.1"
  }
 },
 "nbformat": 4,
 "nbformat_minor": 2
}
