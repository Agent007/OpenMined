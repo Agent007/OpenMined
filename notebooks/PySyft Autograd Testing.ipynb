{
 "cells": [
  {
   "cell_type": "code",
   "execution_count": 1,
   "metadata": {},
   "outputs": [],
   "source": [
    "import syft\n",
    "import syft.nn as nn\n",
    "from syft.controller import tensors, models\n",
    "import imp\n",
    "imp.reload(syft.controller)\n",
    "imp.reload(syft.nn)\n",
    "imp.reload(syft)\n",
    "\n",
    "import numpy as np\n",
    "from syft import FloatTensor\n",
    "\n",
    "import torch\n",
    "from torch.autograd import Variable"
   ]
  },
  {
   "cell_type": "code",
   "execution_count": 2,
   "metadata": {},
   "outputs": [],
   "source": [
    "np.random.seed(1)\n",
    "a_ = np.array([[1,2,3,4,5],[2,3,4,5,6]]).astype('float')\n",
    "b_ = np.array([[5,1,3,8,2],[2,5,3,2,5],[3,5,2,3,6]]).astype('float').transpose()"
   ]
  },
  {
   "cell_type": "code",
   "execution_count": 3,
   "metadata": {},
   "outputs": [],
   "source": [
    "at = Variable(torch.FloatTensor(a_),requires_grad=True)\n",
    "# bt = Variable(torch.FloatTensor(b_),requires_grad=True)\n",
    "ct = at.sigmoid()"
   ]
  },
  {
   "cell_type": "code",
   "execution_count": 4,
   "metadata": {},
   "outputs": [
    {
     "data": {
      "text/plain": [
       "array([[ 0.7310586 ,  0.88079703,  0.95257413,  0.98201376,  0.99330717],\n",
       "       [ 0.88079703,  0.95257413,  0.98201376,  0.99330717,  0.99752742]], dtype=float32)"
      ]
     },
     "execution_count": 4,
     "metadata": {},
     "output_type": "execute_result"
    }
   ],
   "source": [
    "ct.backward(torch.ones(2,5))\n",
    "ct.data.numpy()"
   ]
  },
  {
   "cell_type": "code",
   "execution_count": 5,
   "metadata": {},
   "outputs": [
    {
     "data": {
      "text/plain": [
       "Variable containing:\n",
       " 0.1966  0.1050  0.0452  0.0177  0.0066\n",
       " 0.1050  0.0452  0.0177  0.0066  0.0025\n",
       "[torch.FloatTensor of size 2x5]"
      ]
     },
     "execution_count": 5,
     "metadata": {},
     "output_type": "execute_result"
    }
   ],
   "source": [
    "at.grad"
   ]
  },
  {
   "cell_type": "code",
   "execution_count": null,
   "metadata": {
    "collapsed": true
   },
   "outputs": [],
   "source": []
  },
  {
   "cell_type": "code",
   "execution_count": null,
   "metadata": {
    "collapsed": true
   },
   "outputs": [],
   "source": []
  },
  {
   "cell_type": "code",
   "execution_count": null,
   "metadata": {
    "collapsed": true
   },
   "outputs": [],
   "source": []
  },
  {
   "cell_type": "code",
   "execution_count": 6,
   "metadata": {
    "collapsed": true
   },
   "outputs": [],
   "source": [
    "a = FloatTensor(a_,autograd=True)"
   ]
  },
  {
   "cell_type": "code",
   "execution_count": 7,
   "metadata": {
    "collapsed": true
   },
   "outputs": [],
   "source": [
    "grad = FloatTensor(np.ones((2,5)),autograd=False)"
   ]
  },
  {
   "cell_type": "code",
   "execution_count": 8,
   "metadata": {},
   "outputs": [],
   "source": [
    "c = a.sigmoid()"
   ]
  },
  {
   "cell_type": "code",
   "execution_count": 9,
   "metadata": {},
   "outputs": [],
   "source": [
    "c.backward(grad)"
   ]
  },
  {
   "cell_type": "code",
   "execution_count": 10,
   "metadata": {},
   "outputs": [
    {
     "data": {
      "text/plain": [
       "[[ 0.7310586  0.8807971  0.9525741  0.9820138  0.9933072]\n",
       " [ 0.8807971  0.9525741  0.9820138  0.9933072  0.9975274]]\n",
       "[syft.FloatTensor:3 grad:2 size:2x5 c:[4, 7] p:[1] init:sigmoid]\n",
       "\n",
       "\t-----------children-----------\n",
       "\t[syft.FloatTensor:4 grad:None size:2x5 c:[5] p:[3] init:neg]\n",
       "\t[syft.FloatTensor:7 grad:None size:2x5 c:[8] p:[5, 3] init:mul_elem]\n",
       "\t------------------------------\n",
       "\n",
       "\t-----------creators-----------\n",
       "\t[syft.FloatTensor:1 grad:8 size:2x5 c:[3] p:[] init:]\n",
       "\t------------------------------\n",
       "\n"
      ]
     },
     "execution_count": 10,
     "metadata": {},
     "output_type": "execute_result"
    }
   ],
   "source": [
    "c"
   ]
  },
  {
   "cell_type": "code",
   "execution_count": 11,
   "metadata": {},
   "outputs": [
    {
     "data": {
      "text/plain": [
       "[[ 0.1966119   0.1049936   0.04517666  0.01766273  0.00664803]\n",
       " [ 0.1049936   0.04517666  0.01766273  0.00664803  0.00246652]]\n",
       "[syft.FloatTensor:8 grad:None size:2x5 c:[] p:[7, 2] init:mul_elem]\n",
       "\n",
       "\t-----------creators-----------\n",
       "\t[syft.FloatTensor:7 grad:None size:2x5 c:[8] p:[5, 3] init:mul_elem]\n",
       "\t[syft.FloatTensor:2 grad:None size:2x5 c:[8] p:[] init:]\n",
       "\t------------------------------\n",
       "\n"
      ]
     },
     "execution_count": 11,
     "metadata": {},
     "output_type": "execute_result"
    }
   ],
   "source": [
    "a.grad()"
   ]
  },
  {
   "cell_type": "code",
   "execution_count": 12,
   "metadata": {},
   "outputs": [
    {
     "data": {
      "text/plain": [
       "[[ 1.  1.  1.  1.  1.]\n",
       " [ 1.  1.  1.  1.  1.]]\n",
       "[syft.FloatTensor:2 grad:None size:2x5 c:[8] p:[] init:]\n",
       "\n",
       "\t-----------children-----------\n",
       "\t[syft.FloatTensor:8 grad:None size:2x5 c:[] p:[7, 2] init:mul_elem]\n",
       "\t------------------------------\n",
       "\n"
      ]
     },
     "execution_count": 12,
     "metadata": {},
     "output_type": "execute_result"
    }
   ],
   "source": [
    "grad"
   ]
  },
  {
   "cell_type": "code",
   "execution_count": 13,
   "metadata": {
    "collapsed": true
   },
   "outputs": [],
   "source": [
    "c = a.sigmoid()"
   ]
  },
  {
   "cell_type": "code",
   "execution_count": 14,
   "metadata": {},
   "outputs": [
    {
     "data": {
      "text/plain": [
       "[[ 0.7310586  0.8807971  0.9525741  0.9820138  0.9933072]\n",
       " [ 0.8807971  0.9525741  0.9820138  0.9933072  0.9975274]]\n",
       "[syft.FloatTensor:3 grad:2 size:2x5 c:[4, 7] p:[1] init:sigmoid]\n",
       "\n",
       "\t-----------children-----------\n",
       "\t[syft.FloatTensor:4 grad:None size:2x5 c:[5] p:[3] init:neg]\n",
       "\t[syft.FloatTensor:7 grad:None size:2x5 c:[8] p:[5, 3] init:mul_elem]\n",
       "\t------------------------------\n",
       "\n",
       "\t-----------creators-----------\n",
       "\t[syft.FloatTensor:1 grad:8 size:2x5 c:[3] p:[] init:]\n",
       "\t------------------------------\n",
       "\n"
      ]
     },
     "execution_count": 14,
     "metadata": {},
     "output_type": "execute_result"
    }
   ],
   "source": [
    "c"
   ]
  },
  {
   "cell_type": "code",
   "execution_count": 15,
   "metadata": {
    "collapsed": true
   },
   "outputs": [],
   "source": [
    "c.backward(grad)"
   ]
  },
  {
   "cell_type": "code",
   "execution_count": 16,
   "metadata": {},
   "outputs": [
    {
     "data": {
      "text/plain": [
       "[[ 0.7310586  0.8807971  0.9525741  0.9820138  0.9933072]\n",
       " [ 0.8807971  0.9525741  0.9820138  0.9933072  0.9975274]]\n",
       "[syft.FloatTensor:3 grad:2 size:2x5 c:[4, 7] p:[1] init:sigmoid]\n",
       "\n",
       "\t-----------children-----------\n",
       "\t[syft.FloatTensor:4 grad:None size:2x5 c:[5] p:[3] init:neg]\n",
       "\t[syft.FloatTensor:7 grad:None size:2x5 c:[8] p:[5, 3] init:mul_elem]\n",
       "\t------------------------------\n",
       "\n",
       "\t-----------creators-----------\n",
       "\t[syft.FloatTensor:1 grad:8 size:2x5 c:[3] p:[] init:]\n",
       "\t------------------------------\n",
       "\n"
      ]
     },
     "execution_count": 16,
     "metadata": {},
     "output_type": "execute_result"
    }
   ],
   "source": [
    "c"
   ]
  },
  {
   "cell_type": "code",
   "execution_count": 17,
   "metadata": {},
   "outputs": [
    {
     "data": {
      "text/plain": [
       "[[ 0.1966119   0.1049936   0.04517666  0.01766273  0.00664803]\n",
       " [ 0.1049936   0.04517666  0.01766273  0.00664803  0.00246652]]\n",
       "[syft.FloatTensor:8 grad:None size:2x5 c:[] p:[7, 2] init:mul_elem]\n",
       "\n",
       "\t-----------creators-----------\n",
       "\t[syft.FloatTensor:7 grad:None size:2x5 c:[8] p:[5, 3] init:mul_elem]\n",
       "\t[syft.FloatTensor:2 grad:None size:2x5 c:[8] p:[] init:]\n",
       "\t------------------------------\n",
       "\n"
      ]
     },
     "execution_count": 17,
     "metadata": {},
     "output_type": "execute_result"
    }
   ],
   "source": [
    "a.grad()"
   ]
  },
  {
   "cell_type": "code",
   "execution_count": null,
   "metadata": {
    "collapsed": true
   },
   "outputs": [],
   "source": []
  }
 ],
 "metadata": {
  "kernelspec": {
   "display_name": "Python 3",
   "language": "python",
   "name": "python3"
  },
  "language_info": {
   "codemirror_mode": {
    "name": "ipython",
    "version": 3
   },
   "file_extension": ".py",
   "mimetype": "text/x-python",
   "name": "python",
   "nbconvert_exporter": "python",
   "pygments_lexer": "ipython3",
   "version": "3.6.1"
  }
 },
 "nbformat": 4,
 "nbformat_minor": 2
}
