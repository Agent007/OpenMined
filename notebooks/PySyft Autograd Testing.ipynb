{
 "cells": [
  {
   "cell_type": "code",
   "execution_count": 1,
   "metadata": {},
   "outputs": [],
   "source": [
    "import syft\n",
    "import syft.nn as nn\n",
    "from syft.controller import tensors, models\n",
    "import imp\n",
    "imp.reload(syft.controller)\n",
    "imp.reload(syft.nn)\n",
    "imp.reload(syft)\n",
    "\n",
    "import numpy as np\n",
    "from syft import FloatTensor\n",
    "\n",
    "import torch\n",
    "from torch.autograd import Variable"
   ]
  },
  {
   "cell_type": "code",
   "execution_count": 2,
   "metadata": {},
   "outputs": [
    {
     "data": {
      "text/plain": [
       "array([  1.74813330e-01,   4.93580431e-01,   2.33841874e-05,\n",
       "         2.65483499e-01,   4.01929067e-03,   6.19100258e-02,\n",
       "         7.77272806e-02,   1.93061262e-01,   5.57009690e-02,\n",
       "         1.06740400e-01], dtype=float32)"
      ]
     },
     "execution_count": 2,
     "metadata": {},
     "output_type": "execute_result"
    }
   ],
   "source": [
    "np.random.seed(1)\n",
    "a_ = np.random.rand(10)\n",
    "b_ = np.random.rand(10)\n",
    "\n",
    "\n",
    "# create tensors\n",
    "a = FloatTensor(a_, autograd=True)\n",
    "b = FloatTensor(b_, autograd=True)\n",
    "\n",
    "at = Variable(torch.FloatTensor(a_),requires_grad=True)\n",
    "bt = Variable(torch.FloatTensor(b_),requires_grad=True)\n",
    "ct = at * bt\n",
    "ct.backward(torch.ones(10))\n",
    "ct.data.numpy()"
   ]
  },
  {
   "cell_type": "code",
   "execution_count": 18,
   "metadata": {},
   "outputs": [
    {
     "data": {
      "text/plain": [
       "[  1.74813300e-01   4.93580400e-01   2.33841900e-05   2.65483500e-01\n",
       "   4.01929100e-03   6.19100300e-02   7.77272800e-02   1.93061300e-01\n",
       "   5.57009700e-02   1.06740400e-01]\n",
       "[syft.FloatTensor:3 grad:4 size:10 c:[] p:[1, 2] init:mul_elem]\n",
       "\n",
       "\t-----------creators-----------\n",
       "\t[syft.FloatTensor:1 grad:5 size:10 c:[3] p:[] init:]\n",
       "\t[syft.FloatTensor:2 grad:6 size:10 c:[3] p:[] init:]\n",
       "\t------------------------------\n",
       "\n"
      ]
     },
     "execution_count": 18,
     "metadata": {},
     "output_type": "execute_result"
    }
   ],
   "source": [
    "c = a * b\n",
    "c.backward()\n",
    "c"
   ]
  },
  {
   "cell_type": "code",
   "execution_count": 15,
   "metadata": {},
   "outputs": [
    {
     "data": {
      "text/plain": [
       "array([  4.17021990e-01,   7.20324516e-01,   1.14374816e-04,\n",
       "         3.02332580e-01,   1.46755889e-01,   9.23385918e-02,\n",
       "         1.86260208e-01,   3.45560730e-01,   3.96767467e-01,\n",
       "         5.38816750e-01], dtype=float32)"
      ]
     },
     "execution_count": 15,
     "metadata": {},
     "output_type": "execute_result"
    }
   ],
   "source": [
    "bt.grad.data.numpy()"
   ]
  },
  {
   "cell_type": "code",
   "execution_count": 16,
   "metadata": {},
   "outputs": [
    {
     "data": {
      "text/plain": [
       "[  4.17022000e-01   7.20324500e-01   1.14374800e-04   3.02332600e-01\n",
       "   1.46755900e-01   9.23385900e-02   1.86260200e-01   3.45560700e-01\n",
       "   3.96767500e-01   5.38816800e-01]\n",
       "[syft.FloatTensor:6 grad:None size:10 c:[] p:[] init:mul_elem]"
      ]
     },
     "execution_count": 16,
     "metadata": {},
     "output_type": "execute_result"
    }
   ],
   "source": [
    "b.grad()"
   ]
  },
  {
   "cell_type": "code",
   "execution_count": null,
   "metadata": {
    "collapsed": true
   },
   "outputs": [],
   "source": []
  }
 ],
 "metadata": {
  "kernelspec": {
   "display_name": "Python 3",
   "language": "python",
   "name": "python3"
  },
  "language_info": {
   "codemirror_mode": {
    "name": "ipython",
    "version": 3
   },
   "file_extension": ".py",
   "mimetype": "text/x-python",
   "name": "python",
   "nbconvert_exporter": "python",
   "pygments_lexer": "ipython3",
   "version": "3.6.1"
  }
 },
 "nbformat": 4,
 "nbformat_minor": 2
}
