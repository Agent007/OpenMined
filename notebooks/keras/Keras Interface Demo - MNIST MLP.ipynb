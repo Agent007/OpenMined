{
 "cells": [
  {
   "cell_type": "code",
   "execution_count": 3,
   "metadata": {},
   "outputs": [
    {
     "name": "stdout",
     "output_type": "stream",
     "text": [
      "60000 train samples\n",
      "10000 test samples\n"
     ]
    }
   ],
   "source": [
    "'''Trains a simple deep NN on the MNIST dataset.\n",
    "Gets to 98.40% test accuracy after 20 epochs\n",
    "(there is *a lot* of margin for parameter tuning).\n",
    "2 seconds per epoch on a K520 GPU.\n",
    "'''\n",
    "\n",
    "# Original Demo: https://github.com/keras-team/keras/blob/master/examples/mnist_mlp.py\n",
    "\n",
    "from __future__ import print_function\n",
    "\n",
    "import keras\n",
    "from keras.datasets import mnist\n",
    "from keras.models import Sequential\n",
    "from keras.layers import Dense, Dropout\n",
    "from keras.optimizers import SGD\n",
    "\n",
    "# import syft.interfaces.keras as keras\n",
    "# from syft.interfaces.keras.datasets import mnist\n",
    "# from syft.interfaces.keras.models import Sequential\n",
    "# from syft.interfaces.keras.layers import Dense, Dropouto\n",
    "# from syft.interfaces.keras.optimizers import RMSprop\n",
    "\n",
    "batch_size = 128\n",
    "num_classes = 10\n",
    "epochs = 20\n",
    "\n",
    "# the data, shuffled and split between train and test sets\n",
    "(x_train, y_train), (x_test, y_test) = mnist.load_data()\n",
    "\n",
    "x_train = x_train.reshape(60000, 784)\n",
    "x_test = x_test.reshape(10000, 784)\n",
    "x_train = x_train.astype('float32')\n",
    "x_test = x_test.astype('float32')\n",
    "x_train /= 255\n",
    "x_test /= 255\n",
    "print(x_train.shape[0], 'train samples')\n",
    "print(x_test.shape[0], 'test samples')\n",
    "\n",
    "# convert class vectors to binary class matrices\n",
    "y_train = keras.utils.to_categorical(y_train, num_classes)\n",
    "y_test = keras.utils.to_categorical(y_test, num_classes)\n",
    "\n",
    "model = Sequential()\n",
    "model.add(Dense(512, activation='relu', input_shape=(784,)))\n",
    "model.add(Dropout(0.2))\n",
    "model.add(Dense(512, activation='relu'))\n",
    "model.add(Dropout(0.2))\n",
    "model.add(Dense(num_classes, activation='softmax'))"
   ]
  },
  {
   "cell_type": "code",
   "execution_count": 4,
   "metadata": {},
   "outputs": [
    {
     "name": "stdout",
     "output_type": "stream",
     "text": [
      "_________________________________________________________________\n",
      "Layer (type)                 Output Shape              Param #   \n",
      "=================================================================\n",
      "dense_1 (Dense)              (None, 512)               401920    \n",
      "_________________________________________________________________\n",
      "dropout_1 (Dropout)          (None, 512)               0         \n",
      "_________________________________________________________________\n",
      "dense_2 (Dense)              (None, 512)               262656    \n",
      "_________________________________________________________________\n",
      "dropout_2 (Dropout)          (None, 512)               0         \n",
      "_________________________________________________________________\n",
      "dense_3 (Dense)              (None, 10)                5130      \n",
      "=================================================================\n",
      "Total params: 669,706\n",
      "Trainable params: 669,706\n",
      "Non-trainable params: 0\n",
      "_________________________________________________________________\n"
     ]
    }
   ],
   "source": [
    "model.summary()"
   ]
  },
  {
   "cell_type": "code",
   "execution_count": 6,
   "metadata": {},
   "outputs": [],
   "source": [
    "model.compile(loss='categorical_crossentropy',\n",
    "              optimizer=SGD(),\n",
    "              metrics=['accuracy'])"
   ]
  },
  {
   "cell_type": "code",
   "execution_count": 7,
   "metadata": {},
   "outputs": [
    {
     "name": "stdout",
     "output_type": "stream",
     "text": [
      "Train on 60000 samples, validate on 10000 samples\n",
      "Epoch 1/20\n",
      "60000/60000 [==============================] - 8s - loss: 1.2263 - acc: 0.6777 - val_loss: 0.5520 - val_acc: 0.8659\n",
      "Epoch 2/20\n",
      "60000/60000 [==============================] - 9s - loss: 0.5371 - acc: 0.8491 - val_loss: 0.3843 - val_acc: 0.8935\n",
      "Epoch 3/20\n",
      "60000/60000 [==============================] - 8s - loss: 0.4300 - acc: 0.8739 - val_loss: 0.3283 - val_acc: 0.9083\n",
      "Epoch 4/20\n",
      "60000/60000 [==============================] - 7s - loss: 0.3784 - acc: 0.8893 - val_loss: 0.2969 - val_acc: 0.9159\n",
      "Epoch 5/20\n",
      "60000/60000 [==============================] - 5s - loss: 0.3458 - acc: 0.9006 - val_loss: 0.2731 - val_acc: 0.9230\n",
      "Epoch 6/20\n",
      "60000/60000 [==============================] - 5s - loss: 0.3215 - acc: 0.9064 - val_loss: 0.2568 - val_acc: 0.9267\n",
      "Epoch 7/20\n",
      "60000/60000 [==============================] - 5s - loss: 0.3005 - acc: 0.9123 - val_loss: 0.2417 - val_acc: 0.9305\n",
      "Epoch 8/20\n",
      "60000/60000 [==============================] - 5s - loss: 0.2827 - acc: 0.9170 - val_loss: 0.2286 - val_acc: 0.9331\n",
      "Epoch 9/20\n",
      "60000/60000 [==============================] - 5s - loss: 0.2692 - acc: 0.9218 - val_loss: 0.2168 - val_acc: 0.9363\n",
      "Epoch 10/20\n",
      "60000/60000 [==============================] - 5s - loss: 0.2560 - acc: 0.9257 - val_loss: 0.2085 - val_acc: 0.9388\n",
      "Epoch 11/20\n",
      "60000/60000 [==============================] - 5s - loss: 0.2436 - acc: 0.9297 - val_loss: 0.1987 - val_acc: 0.9409\n",
      "Epoch 12/20\n",
      "60000/60000 [==============================] - 5s - loss: 0.2332 - acc: 0.9326 - val_loss: 0.1895 - val_acc: 0.9447\n",
      "Epoch 13/20\n",
      "60000/60000 [==============================] - 5s - loss: 0.2245 - acc: 0.9355 - val_loss: 0.1833 - val_acc: 0.9461\n",
      "Epoch 14/20\n",
      "60000/60000 [==============================] - 5s - loss: 0.2142 - acc: 0.9379 - val_loss: 0.1746 - val_acc: 0.9488\n",
      "Epoch 15/20\n",
      "60000/60000 [==============================] - 5s - loss: 0.2049 - acc: 0.9412 - val_loss: 0.1687 - val_acc: 0.9498\n",
      "Epoch 16/20\n",
      "60000/60000 [==============================] - 5s - loss: 0.1986 - acc: 0.9418 - val_loss: 0.1627 - val_acc: 0.9522\n",
      "Epoch 17/20\n",
      "60000/60000 [==============================] - 5s - loss: 0.1918 - acc: 0.9437 - val_loss: 0.1572 - val_acc: 0.9533\n",
      "Epoch 18/20\n",
      "60000/60000 [==============================] - 5s - loss: 0.1850 - acc: 0.9462 - val_loss: 0.1521 - val_acc: 0.9544\n",
      "Epoch 19/20\n",
      "60000/60000 [==============================] - 5s - loss: 0.1790 - acc: 0.9483 - val_loss: 0.1468 - val_acc: 0.9564\n",
      "Epoch 20/20\n",
      "60000/60000 [==============================] - 5s - loss: 0.1740 - acc: 0.9483 - val_loss: 0.1429 - val_acc: 0.9582\n"
     ]
    }
   ],
   "source": [
    "history = model.fit(x_train, y_train,\n",
    "                    batch_size=batch_size,\n",
    "                    epochs=epochs,\n",
    "                    verbose=1,\n",
    "                    validation_data=(x_test, y_test))"
   ]
  },
  {
   "cell_type": "code",
   "execution_count": 8,
   "metadata": {},
   "outputs": [
    {
     "name": "stdout",
     "output_type": "stream",
     "text": [
      "Test loss: 0.142890261518\n",
      "Test accuracy: 0.9582\n"
     ]
    }
   ],
   "source": [
    "score = model.evaluate(x_test, y_test, verbose=0)\n",
    "print('Test loss:', score[0])\n",
    "print('Test accuracy:', score[1])"
   ]
  },
  {
   "cell_type": "code",
   "execution_count": null,
   "metadata": {
    "collapsed": true
   },
   "outputs": [],
   "source": []
  }
 ],
 "metadata": {
  "kernelspec": {
   "display_name": "Python 3",
   "language": "python",
   "name": "python3"
  },
  "language_info": {
   "codemirror_mode": {
    "name": "ipython",
    "version": 3
   },
   "file_extension": ".py",
   "mimetype": "text/x-python",
   "name": "python",
   "nbconvert_exporter": "python",
   "pygments_lexer": "ipython3",
   "version": "3.6.1"
  }
 },
 "nbformat": 4,
 "nbformat_minor": 2
}
