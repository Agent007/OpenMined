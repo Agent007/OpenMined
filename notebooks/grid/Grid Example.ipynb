{
 "cells": [
  {
   "cell_type": "code",
   "execution_count": 8,
   "metadata": {},
   "outputs": [
    {
     "name": "stdout",
     "output_type": "stream",
     "text": [
      "The autoreload extension is already loaded. To reload it, use:\n",
      "  %reload_ext autoreload\n"
     ]
    }
   ],
   "source": [
    "%load_ext autoreload\n",
    "%autoreload 2\n",
    "\n",
    "import syft\n",
    "import syft.nn as nn\n",
    "import syft.grid.grid as grid\n",
    "import imp\n",
    "imp.reload(syft)\n",
    "imp.reload(syft.nn)\n",
    "imp.reload(syft.grid)\n",
    "\n",
    "import numpy as np\n",
    "from syft import FloatTensor\n",
    "from syft import IntTensor"
   ]
  },
  {
   "cell_type": "code",
   "execution_count": 9,
   "metadata": {
    "collapsed": true
   },
   "outputs": [],
   "source": [
    "highDropout = nn.Sequential([\n",
    "    nn.Linear(3,4),\n",
    "    nn.ReLU(),\n",
    "    nn.Dropout(0.10),\n",
    "    nn.Linear(4,2),\n",
    "    nn.Softmax(1),\n",
    "    nn.Log()\n",
    "])\n",
    "\n",
    "lowDropout = nn.Sequential([\n",
    "    nn.Linear(3,4),\n",
    "    nn.ReLU(),\n",
    "    nn.Dropout(0.05),\n",
    "    nn.Linear(4,2),\n",
    "    nn.Softmax(1),\n",
    "    nn.Log()\n",
    "])\n",
    "\n",
    "g = grid.Grid()\n",
    "\n",
    "config1 = g.configuration(\n",
    "  model=highDropout,\n",
    "  lr=0.01\n",
    ")\n",
    "\n",
    "config2 = g.configuration(\n",
    "  model=lowDropout,\n",
    "  lr=1\n",
    ")\n",
    "\n",
    "config3 = g.configuration(\n",
    "  model=lowDropout,\n",
    "  lr=0.1\n",
    ")"
   ]
  },
  {
   "cell_type": "code",
   "execution_count": 10,
   "metadata": {},
   "outputs": [
    {
     "ename": "Exception",
     "evalue": "Unity Error: System.NullReferenceException: Object reference not set to an instance of an object\n  at OpenMined.Network.Controllers.SyftController.processMessage (System.String json_message) [0x00ccf] in /Users/justinpatriquin/projects/OpenMined/UnityProject/Assets/OpenMined/Network/Controllers/SyftController.cs:437 ",
     "output_type": "error",
     "traceback": [
      "\u001b[0;31m---------------------------------------------------------------------------\u001b[0m",
      "\u001b[0;31mException\u001b[0m                                 Traceback (most recent call last)",
      "\u001b[0;32m<ipython-input-10-89471b977902>\u001b[0m in \u001b[0;36m<module>\u001b[0;34m()\u001b[0m\n\u001b[0;32m----> 1\u001b[0;31m \u001b[0mg\u001b[0m\u001b[0;34m.\u001b[0m\u001b[0mgetNumModels\u001b[0m\u001b[0;34m(\u001b[0m\u001b[0;34m)\u001b[0m\u001b[0;34m\u001b[0m\u001b[0m\n\u001b[0m",
      "\u001b[0;32m/anaconda3/lib/python3.6/site-packages/syft-0.1.0-py3.6.egg/syft/grid/grid.py\u001b[0m in \u001b[0;36mgetNumModels\u001b[0;34m(self)\u001b[0m\n\u001b[1;32m     25\u001b[0m     \u001b[0;32mdef\u001b[0m \u001b[0mgetNumModels\u001b[0m\u001b[0;34m(\u001b[0m\u001b[0mself\u001b[0m\u001b[0;34m)\u001b[0m\u001b[0;34m:\u001b[0m\u001b[0;34m\u001b[0m\u001b[0m\n\u001b[1;32m     26\u001b[0m         return self.controller.send_json({\"objectType\": \"Grid\",\n\u001b[0;32m---> 27\u001b[0;31m                                           \"functionCall\": \"getNumModels\"})\n\u001b[0m\u001b[1;32m     28\u001b[0m \u001b[0;34m\u001b[0m\u001b[0m\n\u001b[1;32m     29\u001b[0m \u001b[0;34m\u001b[0m\u001b[0m\n",
      "\u001b[0;32m/anaconda3/lib/python3.6/site-packages/syft-0.1.0-py3.6.egg/syft/controller.py\u001b[0m in \u001b[0;36msend_json\u001b[0;34m(message, response)\u001b[0m\n\u001b[1;32m    141\u001b[0m \u001b[0;34m\u001b[0m\u001b[0m\n\u001b[1;32m    142\u001b[0m         \u001b[0;32mif\u001b[0m\u001b[0;34m(\u001b[0m\u001b[0;34m\"Unity Error:\"\u001b[0m \u001b[0;34m==\u001b[0m \u001b[0mres\u001b[0m\u001b[0;34m[\u001b[0m\u001b[0;36m0\u001b[0m\u001b[0;34m:\u001b[0m\u001b[0;36m12\u001b[0m\u001b[0;34m]\u001b[0m\u001b[0;34m)\u001b[0m\u001b[0;34m:\u001b[0m\u001b[0;34m\u001b[0m\u001b[0m\n\u001b[0;32m--> 143\u001b[0;31m             \u001b[0;32mraise\u001b[0m \u001b[0mException\u001b[0m\u001b[0;34m(\u001b[0m\u001b[0mres\u001b[0m\u001b[0;34m)\u001b[0m\u001b[0;34m\u001b[0m\u001b[0m\n\u001b[0m\u001b[1;32m    144\u001b[0m         \u001b[0;32mreturn\u001b[0m \u001b[0mres\u001b[0m\u001b[0;34m\u001b[0m\u001b[0m\n\u001b[1;32m    145\u001b[0m \u001b[0;34m\u001b[0m\u001b[0m\n",
      "\u001b[0;31mException\u001b[0m: Unity Error: System.NullReferenceException: Object reference not set to an instance of an object\n  at OpenMined.Network.Controllers.SyftController.processMessage (System.String json_message) [0x00ccf] in /Users/justinpatriquin/projects/OpenMined/UnityProject/Assets/OpenMined/Network/Controllers/SyftController.cs:437 "
     ]
    }
   ],
   "source": [
    "g.getNumModels()"
   ]
  },
  {
   "cell_type": "code",
   "execution_count": 4,
   "metadata": {
    "collapsed": true
   },
   "outputs": [],
   "source": [
    "input = FloatTensor([[0,0,1],[0,1.0,1],[1,0,1],[1,1,1]], autograd=True)\n",
    "target = FloatTensor([[0],[0],[1],[1]], autograd=True)\n",
    "\n",
    "g.learn(\n",
    "  input = input,\n",
    "  target = target,\n",
    "  configurations = [config1, config2, config3]\n",
    ")"
   ]
  },
  {
   "cell_type": "code",
   "execution_count": null,
   "metadata": {
    "collapsed": true
   },
   "outputs": [],
   "source": []
  }
 ],
 "metadata": {
  "kernelspec": {
   "display_name": "Python 3",
   "language": "python",
   "name": "python3"
  },
  "language_info": {
   "codemirror_mode": {
    "name": "ipython",
    "version": 3
   },
   "file_extension": ".py",
   "mimetype": "text/x-python",
   "name": "python",
   "nbconvert_exporter": "python",
   "pygments_lexer": "ipython3",
   "version": "3.6.3"
  }
 },
 "nbformat": 4,
 "nbformat_minor": 2
}
