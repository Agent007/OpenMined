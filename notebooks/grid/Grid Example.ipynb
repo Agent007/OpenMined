{
 "cells": [
  {
   "cell_type": "code",
   "execution_count": 3,
   "metadata": {},
   "outputs": [
    {
     "name": "stdout",
     "output_type": "stream",
     "text": [
      "The autoreload extension is already loaded. To reload it, use:\n",
      "  %reload_ext autoreload\n"
     ]
    }
   ],
   "source": [
    "%load_ext autoreload\n",
    "%autoreload 2\n",
    "\n",
    "import syft\n",
    "import syft.nn as nn\n",
    "import syft.grid.grid as grid\n",
    "import imp\n",
    "imp.reload(syft)\n",
    "imp.reload(syft.nn)\n",
    "imp.reload(syft.grid)\n",
    "\n",
    "import numpy as np\n",
    "from syft import FloatTensor\n",
    "from syft import IntTensor"
   ]
  },
  {
   "cell_type": "code",
   "execution_count": 5,
   "metadata": {},
   "outputs": [],
   "source": [
    "model = nn.Sequential([\n",
    "    nn.Linear(3,1),\n",
    "    nn.Sigmoid()\n",
    "])\n",
    "\n",
    "g = grid.Grid()\n",
    "\n",
    "\n",
    "configs = list()\n",
    "\n",
    "for lr in [0.01,0.05,0.1,1,2]:\n",
    "    configs.append(g.configuration(\n",
    "        model=model,\n",
    "        lr=lr,\n",
    "        criterion='mseloss',\n",
    "        iters=200\n",
    "    ))"
   ]
  },
  {
   "cell_type": "code",
   "execution_count": 7,
   "metadata": {},
   "outputs": [],
   "source": [
    "input = FloatTensor([[0,0,1],[0,1.0,1],[1,0,1],[1,1,1]], autograd=True)\n",
    "target = FloatTensor([[0],[0],[1],[1]], autograd=True)\n",
    "\n",
    "g.learn(\n",
    "  input = input,\n",
    "  target = target,\n",
    "  configurations = configs,\n",
    "  name='XOR Netowrk'\n",
    ")"
   ]
  },
  {
   "cell_type": "code",
   "execution_count": 10,
   "metadata": {},
   "outputs": [
    {
     "name": "stdout",
     "output_type": "stream",
     "text": [
      "\u001b[40m\u001b[37m ALL EXPERIMENTS \u001b[0m\n",
      "Get the result of your experiment by calling \u001b[32mget_results\u001b[0m with the highlighted uuid\n",
      "\n",
      "    - XOR Netowrk (\u001b[32m5aa23593-24f4-44ca-98b9-8f53e80a9169\u001b[0m)\n",
      "    - MNIST (\u001b[32mac9d45f4-f583-488c-addd-b1065d40180b\u001b[0m)\n",
      "    - MNIST (\u001b[32m89af0143-c84d-4e51-af09-577081183815\u001b[0m)\n",
      "    - Experiment on 24-1-2018 (\u001b[32mf6920bdf-53fb-402a-92a1-96599c0ae90b\u001b[0m)\n"
     ]
    }
   ],
   "source": [
    "g = grid.Grid()\n",
    "g.get_experiments()"
   ]
  },
  {
   "cell_type": "code",
   "execution_count": 11,
   "metadata": {},
   "outputs": [],
   "source": [
    "r = g.get_results('5aa23593-24f4-44ca-98b9-8f53e80a9169')"
   ]
  },
  {
   "cell_type": "code",
   "execution_count": 17,
   "metadata": {},
   "outputs": [
    {
     "name": "stdout",
     "output_type": "stream",
     "text": [
      "Index:0 Alpha:0.01\n",
      "   0.395607  \n",
      "   0.3031635 \n",
      "   0.3506566 \n",
      "   0.2641266  \n",
      "Index:1 Alpha:0.05\n",
      "   0.508768  \n",
      "   0.4755359 \n",
      "   0.7191721 \n",
      "   0.6915442  \n",
      "Index:2 Alpha:0.1\n",
      "   0.5523927 \n",
      "   0.5548765 \n",
      "   0.9039254 \n",
      "   0.9047947  \n",
      "Index:3 Alpha:1\n",
      "    3.48396700e-03 \n",
      "    3.53869100e-04 \n",
      "    9.93847400e-01 \n",
      "    9.42381600e-01  \n",
      "Index:4 Alpha:2\n",
      "    5.76457100e-05 \n",
      "    1.24373000e-06 \n",
      "    9.98320900e-01 \n",
      "    9.27680900e-01  \n"
     ]
    }
   ],
   "source": [
    "for model_i, trained_model in enumerate(r.results):\n",
    "    print(\"Index:\" + str(model_i) + \" Alpha:\" + str(configs[model_i].lr))\n",
    "    print(trained_model.forward(input))"
   ]
  },
  {
   "cell_type": "code",
   "execution_count": null,
   "metadata": {
    "collapsed": true
   },
   "outputs": [],
   "source": []
  }
 ],
 "metadata": {
  "kernelspec": {
   "display_name": "Python 3",
   "language": "python",
   "name": "python3"
  },
  "language_info": {
   "codemirror_mode": {
    "name": "ipython",
    "version": 3
   },
   "file_extension": ".py",
   "mimetype": "text/x-python",
   "name": "python",
   "nbconvert_exporter": "python",
   "pygments_lexer": "ipython3",
   "version": "3.6.1"
  }
 },
 "nbformat": 4,
 "nbformat_minor": 2
}
