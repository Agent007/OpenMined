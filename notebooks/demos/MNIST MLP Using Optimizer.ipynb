{
 "cells": [
  {
   "cell_type": "code",
   "execution_count": 2,
   "metadata": {},
   "outputs": [],
   "source": [
    "import syft\n",
    "from syft.utils import Progress\n",
    "import syft.nn as nn\n",
    "import syft.optim as optim\n",
    "from syft.controller import models, tensors\n",
    "import imp\n",
    "imp.reload(syft)\n",
    "imp.reload(syft.nn)\n",
    "\n",
    "import numpy as np\n",
    "from syft import FloatTensor"
   ]
  },
  {
   "cell_type": "code",
   "execution_count": 9,
   "metadata": {
    "collapsed": true
   },
   "outputs": [],
   "source": [
    "lin = nn.Linear(3,4)\n",
    "\n",
    "model = nn.Sequential([\n",
    "    lin,\n",
    "    nn.Tanh(),\n",
    "    nn.Dropout(0.1),\n",
    "    nn.Linear(4,2),\n",
    "    nn.Softmax(1),\n",
    "    nn.Log()\n",
    "])\n",
    "\n",
    "input = FloatTensor([[0,0,1],[0,1.0,1],[1,0,1],[1,1,1]]*1001, autograd=True)\n",
    "target = FloatTensor([[0,0],[0,0],[0,1],[0,1]]*1001, autograd=True)"
   ]
  },
  {
   "cell_type": "code",
   "execution_count": 10,
   "metadata": {},
   "outputs": [],
   "source": [
    "out = input.batchify(dim=0,batch_size=10)"
   ]
  },
  {
   "cell_type": "code",
   "execution_count": 34,
   "metadata": {},
   "outputs": [
    {
     "name": "stdout",
     "output_type": "stream",
     "text": [
      "_________________________________________________________________\n",
      "Layer (type)                 Output Shape              Param #   \n",
      "=================================================================\n",
      "linear_172 (Linear)          (None, 4)                 16\n",
      "_________________________________________________________________\n",
      "tanh_173 (Tanh)              (dynamic)                 0\n",
      "_________________________________________________________________\n",
      "dropout_174 (Dropout)        (dynamic)                 0\n",
      "_________________________________________________________________\n",
      "linear_175 (Linear)          (None, 2)                 10\n",
      "_________________________________________________________________\n",
      "softmax_176 (Softmax)        (dynamic)                 0\n",
      "_________________________________________________________________\n",
      "log_177 (Log)                (dynamic)                 0\n",
      "=================================================================\n",
      "Total params: 26\n",
      "Trainable params: 26\n",
      "Non-trainable params: 0\n",
      "_________________________________________________________________\n",
      "\n"
     ]
    }
   ],
   "source": [
    "model.summary()"
   ]
  },
  {
   "cell_type": "code",
   "execution_count": 54,
   "metadata": {},
   "outputs": [
    {
     "data": {
      "application/vnd.jupyter.widget-view+json": {
       "model_id": "cbf6ee2490fb4f30be5e715f5392e3d8"
      }
     },
     "metadata": {},
     "output_type": "display_data"
    },
    {
     "data": {
      "application/vnd.jupyter.widget-view+json": {
       "model_id": "5b2aa836d271436ca5ca02ba2d4f9a3a"
      }
     },
     "metadata": {},
     "output_type": "display_data"
    }
   ],
   "source": [
    "p = Progress(0,100)\n",
    "p2 = Progress(0,100)"
   ]
  },
  {
   "cell_type": "code",
   "execution_count": 36,
   "metadata": {
    "collapsed": true
   },
   "outputs": [],
   "source": [
    "from time import sleep"
   ]
  },
  {
   "cell_type": "code",
   "execution_count": 55,
   "metadata": {},
   "outputs": [],
   "source": [
    "stats = list()\n",
    "stats.append(('','500/1000'))\n",
    "stats.append(('','5s'))\n",
    "stats.append(('loss','1.2077'))\n",
    "stats.append(('val_loss','0.5673'))\n",
    "stats.append(('val_acc','0.5673'))\n",
    "\n",
    "p.normal()\n",
    "p2.info()\n",
    "for i in range(101):\n",
    "    sleep(0.01)\n",
    "    p.update(i/2,stats)\n",
    "    p2.update(i,stats)\n",
    "p2.success()\n"
   ]
  },
  {
   "cell_type": "code",
   "execution_count": 38,
   "metadata": {
    "collapsed": true
   },
   "outputs": [],
   "source": [
    "optimizer = optim.SGD(model.parameters(),0.000001)\n",
    "criterion = syft.nn.NLLLoss()"
   ]
  },
  {
   "cell_type": "code",
   "execution_count": 50,
   "metadata": {},
   "outputs": [
    {
     "data": {
      "text/plain": [
       "[ 705.1058]\n",
       "[syft.FloatTensor:471 grad:472 size:1 c:[] p:[470] init:neg]\n",
       "\n",
       "\t-----------creators-----------\n",
       "\t[syft.FloatTensor:470 grad:473 size:1 c:[471] p:[469] init:sum_-1]\n",
       "\t------------------------------\n",
       "\n"
      ]
     },
     "execution_count": 50,
     "metadata": {},
     "output_type": "execute_result"
    }
   ],
   "source": [
    "final_loss = model.fit(input=input,\n",
    "                       target=target,\n",
    "                       criterion=criterion,\n",
    "                       optim=optimizer,\n",
    "                       iters=1)\n",
    "final_loss"
   ]
  },
  {
   "cell_type": "code",
   "execution_count": 51,
   "metadata": {},
   "outputs": [
    {
     "data": {
      "text/plain": [
       "[ 197.2364]\n",
       "[syft.FloatTensor:471 grad:472 size:1 c:[] p:[470] init:neg]\n",
       "\n",
       "\t-----------creators-----------\n",
       "\t[syft.FloatTensor:470 grad:473 size:1 c:[471] p:[469] init:sum_-1]\n",
       "\t------------------------------\n",
       "\n"
      ]
     },
     "execution_count": 51,
     "metadata": {},
     "output_type": "execute_result"
    }
   ],
   "source": [
    "final_loss = model.fit(input=input,\n",
    "                       target=target,\n",
    "                       criterion=criterion,\n",
    "                       optim=optimizer,\n",
    "                       iters=15)\n",
    "final_loss"
   ]
  },
  {
   "cell_type": "code",
   "execution_count": null,
   "metadata": {
    "collapsed": true
   },
   "outputs": [],
   "source": []
  }
 ],
 "metadata": {
  "kernelspec": {
   "display_name": "Python 3",
   "language": "python",
   "name": "python3"
  },
  "language_info": {
   "codemirror_mode": {
    "name": "ipython",
    "version": 3
   },
   "file_extension": ".py",
   "mimetype": "text/x-python",
   "name": "python",
   "nbconvert_exporter": "python",
   "pygments_lexer": "ipython3",
   "version": "3.6.1"
  }
 },
 "nbformat": 4,
 "nbformat_minor": 2
}
