{
 "cells": [
  {
   "cell_type": "markdown",
   "metadata": {},
   "source": [
    "### Note: "
   ]
  },
  {
   "cell_type": "code",
   "execution_count": 9,
   "metadata": {
    "collapsed": true
   },
   "outputs": [],
   "source": [
    "# OPTIMIZER_TYPE = 'sgd'\n",
    "OPTIMIZER_TYPE = 'rmsprop'\n",
    "# OPTIMIZER_TYPE = 'adam'"
   ]
  },
  {
   "cell_type": "code",
   "execution_count": null,
   "metadata": {},
   "outputs": [],
   "source": [
    "import syft\n",
    "import syft.nn as nn\n",
    "import syft.optim as optim\n",
    "from syft.controller import models, tensors\n",
    "import imp\n",
    "imp.reload(syft)\n",
    "imp.reload(syft.nn)\n",
    "\n",
    "import numpy as np\n",
    "from syft import FloatTensor\n",
    "\n",
    "model = nn.Sequential([\n",
    "    nn.Linear(3,4),\n",
    "    nn.Tanh(),\n",
    "    nn.Linear(4,2),\n",
    "    nn.Softmax(1),\n",
    "    nn.Log()\n",
    "])\n",
    "\n",
    "model.summary()\n",
    "\n",
    "# Define the optimizer you want to test above\n",
    "if OPTIMIZER_TYPE == 'sgd':\n",
    "    optimizer = optim.SGD(model.parameters(), lr=0.1, momentum=0.9)\n",
    "elif OPTIMIZER_TYPE == 'rmsprop':\n",
    "    # **NOTE** RMSProp doesn't converge with the recommended params for this fake dataset.\n",
    "    optimizer = optim.RMSProp(model.parameters(), lr=-0.01, rho=0.95)\n",
    "elif OPTIMIZER_TYPE == 'adam':\n",
    "    optimizer = optim.Adam(model.parameters(), lr=0.1)\n",
    "\n",
    "criterion = syft.nn.NLLLoss()"
   ]
  },
  {
   "cell_type": "code",
   "execution_count": 36,
   "metadata": {
    "collapsed": true
   },
   "outputs": [],
   "source": [
    "input = FloatTensor([[0,0,1],[0,1.0,1],[1,0,1],[1,1,1]]*2000,autograd=True)\n",
    "target = FloatTensor([[0,0],[0,0],[0,1],[0,1]]*2000,autograd=True)"
   ]
  },
  {
   "cell_type": "code",
   "execution_count": 37,
   "metadata": {},
   "outputs": [
    {
     "name": "stdout",
     "output_type": "stream",
     "text": [
      "Number of Batches:80\n"
     ]
    },
    {
     "data": {
      "application/vnd.jupyter.widget-view+json": {
       "model_id": "ec43668e47144ae981e1ed3d4a3d3afd"
      }
     },
     "metadata": {},
     "output_type": "display_data"
    },
    {
     "data": {
      "application/vnd.jupyter.widget-view+json": {
       "model_id": "4616d9f6dc9e48918cbf279a0c5ba942"
      }
     },
     "metadata": {},
     "output_type": "display_data"
    },
    {
     "data": {
      "application/vnd.jupyter.widget-view+json": {
       "model_id": "678c1ae0c3ba47dfb4b794d10e9e2321"
      }
     },
     "metadata": {},
     "output_type": "display_data"
    },
    {
     "data": {
      "application/vnd.jupyter.widget-view+json": {
       "model_id": "1996af7c3d3441a6970bd2a88301ddd0"
      }
     },
     "metadata": {},
     "output_type": "display_data"
    },
    {
     "data": {
      "application/vnd.jupyter.widget-view+json": {
       "model_id": "f43f5a233bac405a8d37bc8a00829aad"
      }
     },
     "metadata": {},
     "output_type": "display_data"
    },
    {
     "data": {
      "application/vnd.jupyter.widget-view+json": {
       "model_id": "3234f95d11b849f3ae36003ffd44b2ea"
      }
     },
     "metadata": {},
     "output_type": "display_data"
    },
    {
     "data": {
      "application/vnd.jupyter.widget-view+json": {
       "model_id": "deaf4fa2b62d4c28ba6e4d03e53f9f08"
      }
     },
     "metadata": {},
     "output_type": "display_data"
    },
    {
     "data": {
      "application/vnd.jupyter.widget-view+json": {
       "model_id": "0e072a624481460c98730efaf6a05c07"
      }
     },
     "metadata": {},
     "output_type": "display_data"
    },
    {
     "data": {
      "application/vnd.jupyter.widget-view+json": {
       "model_id": "8f18431280934cfb93ce1e6770998289"
      }
     },
     "metadata": {},
     "output_type": "display_data"
    },
    {
     "data": {
      "application/vnd.jupyter.widget-view+json": {
       "model_id": "5b4c63040d34498cacd4b52277a9dbc7"
      }
     },
     "metadata": {},
     "output_type": "display_data"
    },
    {
     "data": {
      "application/vnd.jupyter.widget-view+json": {
       "model_id": "08abd1c8b2a7484ab8f91760c253ef66"
      }
     },
     "metadata": {},
     "output_type": "display_data"
    },
    {
     "data": {
      "text/plain": [
       "'50.52963'"
      ]
     },
     "execution_count": 37,
     "metadata": {},
     "output_type": "execute_result"
    }
   ],
   "source": [
    "final_loss = model.fit(input=input,\n",
    "                       target=target,                       \n",
    "                       batch_size=100,\n",
    "                       criterion=criterion,\n",
    "                       optim=optimizer,\n",
    "                       iters=10,log_interval=4)\n",
    "final_loss"
   ]
  },
  {
   "cell_type": "code",
   "execution_count": null,
   "metadata": {
    "collapsed": true
   },
   "outputs": [],
   "source": []
  }
 ],
 "metadata": {
  "kernelspec": {
   "display_name": "Python 3",
   "language": "python",
   "name": "python3"
  },
  "language_info": {
   "codemirror_mode": {
    "name": "ipython",
    "version": 3
   },
   "file_extension": ".py",
   "mimetype": "text/x-python",
   "name": "python",
   "nbconvert_exporter": "python",
   "pygments_lexer": "ipython3",
   "version": "3.6.1"
  }
 },
 "nbformat": 4,
 "nbformat_minor": 2
}
